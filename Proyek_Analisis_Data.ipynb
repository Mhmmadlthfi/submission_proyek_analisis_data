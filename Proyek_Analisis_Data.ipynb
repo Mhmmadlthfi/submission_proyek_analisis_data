{
 "cells": [
  {
   "cell_type": "markdown",
   "metadata": {
    "id": "H9wADwK78DCz"
   },
   "source": [
    "# Proyek Analisis Data: Bike Sharing Dataset\n",
    "- **Nama:** Muhammad Lutfi Wahid\n",
    "- **Email:** mhmmadlthfi54@gmail.com\n",
    "- **ID Dicoding:** mhmmadlthfi"
   ]
  },
  {
   "cell_type": "markdown",
   "metadata": {
    "id": "eE0raob58DC0"
   },
   "source": [
    "## Menentukan Pertanyaan Bisnis"
   ]
  },
  {
   "cell_type": "markdown",
   "metadata": {
    "id": "GmQeQ5YF8DC0"
   },
   "source": [
    "- Bagaimana tren penyewaan sepeda pada hari libur dibandingkan dengan hari biasa?\n",
    "- Musim apa yang paling diminati oleh penyewa kasual dibandingkan dengan penyewa terdaftar?\n",
    "- Apakah penyewa kasual dan terdaftar memiliki waktu favorit yang berbeda dalam satu hari?"
   ]
  },
  {
   "cell_type": "markdown",
   "metadata": {
    "id": "H-z4QGlO8DC1"
   },
   "source": [
    "## Import Semua Packages/Library yang Digunakan"
   ]
  },
  {
   "cell_type": "code",
   "execution_count": 62,
   "metadata": {
    "id": "FVYwaObI8DC1"
   },
   "outputs": [],
   "source": [
    "import pandas as pd\n",
    "import matplotlib.pyplot as plt"
   ]
  },
  {
   "cell_type": "markdown",
   "metadata": {
    "id": "h_Sh51Xy8DC1"
   },
   "source": [
    "## Data Wrangling"
   ]
  },
  {
   "cell_type": "markdown",
   "metadata": {
    "id": "sXU2GBYu8DC1"
   },
   "source": [
    "### Gathering Data"
   ]
  },
  {
   "cell_type": "markdown",
   "metadata": {},
   "source": [
    "Membuat data frame untuk data \"Day\""
   ]
  },
  {
   "cell_type": "code",
   "execution_count": 63,
   "metadata": {
    "id": "zjCBk1BI8DC1"
   },
   "outputs": [
    {
     "data": {
      "text/html": [
       "<div>\n",
       "<style scoped>\n",
       "    .dataframe tbody tr th:only-of-type {\n",
       "        vertical-align: middle;\n",
       "    }\n",
       "\n",
       "    .dataframe tbody tr th {\n",
       "        vertical-align: top;\n",
       "    }\n",
       "\n",
       "    .dataframe thead th {\n",
       "        text-align: right;\n",
       "    }\n",
       "</style>\n",
       "<table border=\"1\" class=\"dataframe\">\n",
       "  <thead>\n",
       "    <tr style=\"text-align: right;\">\n",
       "      <th></th>\n",
       "      <th>instant</th>\n",
       "      <th>dteday</th>\n",
       "      <th>season</th>\n",
       "      <th>yr</th>\n",
       "      <th>mnth</th>\n",
       "      <th>holiday</th>\n",
       "      <th>weekday</th>\n",
       "      <th>workingday</th>\n",
       "      <th>weathersit</th>\n",
       "      <th>temp</th>\n",
       "      <th>atemp</th>\n",
       "      <th>hum</th>\n",
       "      <th>windspeed</th>\n",
       "      <th>casual</th>\n",
       "      <th>registered</th>\n",
       "      <th>cnt</th>\n",
       "    </tr>\n",
       "  </thead>\n",
       "  <tbody>\n",
       "    <tr>\n",
       "      <th>0</th>\n",
       "      <td>1</td>\n",
       "      <td>2011-01-01</td>\n",
       "      <td>1</td>\n",
       "      <td>0</td>\n",
       "      <td>1</td>\n",
       "      <td>0</td>\n",
       "      <td>6</td>\n",
       "      <td>0</td>\n",
       "      <td>2</td>\n",
       "      <td>0.344167</td>\n",
       "      <td>0.363625</td>\n",
       "      <td>0.805833</td>\n",
       "      <td>0.160446</td>\n",
       "      <td>331</td>\n",
       "      <td>654</td>\n",
       "      <td>985</td>\n",
       "    </tr>\n",
       "    <tr>\n",
       "      <th>1</th>\n",
       "      <td>2</td>\n",
       "      <td>2011-01-02</td>\n",
       "      <td>1</td>\n",
       "      <td>0</td>\n",
       "      <td>1</td>\n",
       "      <td>0</td>\n",
       "      <td>0</td>\n",
       "      <td>0</td>\n",
       "      <td>2</td>\n",
       "      <td>0.363478</td>\n",
       "      <td>0.353739</td>\n",
       "      <td>0.696087</td>\n",
       "      <td>0.248539</td>\n",
       "      <td>131</td>\n",
       "      <td>670</td>\n",
       "      <td>801</td>\n",
       "    </tr>\n",
       "    <tr>\n",
       "      <th>2</th>\n",
       "      <td>3</td>\n",
       "      <td>2011-01-03</td>\n",
       "      <td>1</td>\n",
       "      <td>0</td>\n",
       "      <td>1</td>\n",
       "      <td>0</td>\n",
       "      <td>1</td>\n",
       "      <td>1</td>\n",
       "      <td>1</td>\n",
       "      <td>0.196364</td>\n",
       "      <td>0.189405</td>\n",
       "      <td>0.437273</td>\n",
       "      <td>0.248309</td>\n",
       "      <td>120</td>\n",
       "      <td>1229</td>\n",
       "      <td>1349</td>\n",
       "    </tr>\n",
       "    <tr>\n",
       "      <th>3</th>\n",
       "      <td>4</td>\n",
       "      <td>2011-01-04</td>\n",
       "      <td>1</td>\n",
       "      <td>0</td>\n",
       "      <td>1</td>\n",
       "      <td>0</td>\n",
       "      <td>2</td>\n",
       "      <td>1</td>\n",
       "      <td>1</td>\n",
       "      <td>0.200000</td>\n",
       "      <td>0.212122</td>\n",
       "      <td>0.590435</td>\n",
       "      <td>0.160296</td>\n",
       "      <td>108</td>\n",
       "      <td>1454</td>\n",
       "      <td>1562</td>\n",
       "    </tr>\n",
       "    <tr>\n",
       "      <th>4</th>\n",
       "      <td>5</td>\n",
       "      <td>2011-01-05</td>\n",
       "      <td>1</td>\n",
       "      <td>0</td>\n",
       "      <td>1</td>\n",
       "      <td>0</td>\n",
       "      <td>3</td>\n",
       "      <td>1</td>\n",
       "      <td>1</td>\n",
       "      <td>0.226957</td>\n",
       "      <td>0.229270</td>\n",
       "      <td>0.436957</td>\n",
       "      <td>0.186900</td>\n",
       "      <td>82</td>\n",
       "      <td>1518</td>\n",
       "      <td>1600</td>\n",
       "    </tr>\n",
       "  </tbody>\n",
       "</table>\n",
       "</div>"
      ],
      "text/plain": [
       "   instant      dteday  season  yr  mnth  holiday  weekday  workingday  \\\n",
       "0        1  2011-01-01       1   0     1        0        6           0   \n",
       "1        2  2011-01-02       1   0     1        0        0           0   \n",
       "2        3  2011-01-03       1   0     1        0        1           1   \n",
       "3        4  2011-01-04       1   0     1        0        2           1   \n",
       "4        5  2011-01-05       1   0     1        0        3           1   \n",
       "\n",
       "   weathersit      temp     atemp       hum  windspeed  casual  registered  \\\n",
       "0           2  0.344167  0.363625  0.805833   0.160446     331         654   \n",
       "1           2  0.363478  0.353739  0.696087   0.248539     131         670   \n",
       "2           1  0.196364  0.189405  0.437273   0.248309     120        1229   \n",
       "3           1  0.200000  0.212122  0.590435   0.160296     108        1454   \n",
       "4           1  0.226957  0.229270  0.436957   0.186900      82        1518   \n",
       "\n",
       "    cnt  \n",
       "0   985  \n",
       "1   801  \n",
       "2  1349  \n",
       "3  1562  \n",
       "4  1600  "
      ]
     },
     "execution_count": 63,
     "metadata": {},
     "output_type": "execute_result"
    }
   ],
   "source": [
    "day_df = pd.read_csv(\"./data/day.csv\")\n",
    "day_df.head()"
   ]
  },
  {
   "cell_type": "markdown",
   "metadata": {},
   "source": [
    "Membuat data frame untuk data \"Hour\""
   ]
  },
  {
   "cell_type": "code",
   "execution_count": 64,
   "metadata": {},
   "outputs": [
    {
     "data": {
      "text/html": [
       "<div>\n",
       "<style scoped>\n",
       "    .dataframe tbody tr th:only-of-type {\n",
       "        vertical-align: middle;\n",
       "    }\n",
       "\n",
       "    .dataframe tbody tr th {\n",
       "        vertical-align: top;\n",
       "    }\n",
       "\n",
       "    .dataframe thead th {\n",
       "        text-align: right;\n",
       "    }\n",
       "</style>\n",
       "<table border=\"1\" class=\"dataframe\">\n",
       "  <thead>\n",
       "    <tr style=\"text-align: right;\">\n",
       "      <th></th>\n",
       "      <th>instant</th>\n",
       "      <th>dteday</th>\n",
       "      <th>season</th>\n",
       "      <th>yr</th>\n",
       "      <th>mnth</th>\n",
       "      <th>hr</th>\n",
       "      <th>holiday</th>\n",
       "      <th>weekday</th>\n",
       "      <th>workingday</th>\n",
       "      <th>weathersit</th>\n",
       "      <th>temp</th>\n",
       "      <th>atemp</th>\n",
       "      <th>hum</th>\n",
       "      <th>windspeed</th>\n",
       "      <th>casual</th>\n",
       "      <th>registered</th>\n",
       "      <th>cnt</th>\n",
       "    </tr>\n",
       "  </thead>\n",
       "  <tbody>\n",
       "    <tr>\n",
       "      <th>0</th>\n",
       "      <td>1</td>\n",
       "      <td>2011-01-01</td>\n",
       "      <td>1</td>\n",
       "      <td>0</td>\n",
       "      <td>1</td>\n",
       "      <td>0</td>\n",
       "      <td>0</td>\n",
       "      <td>6</td>\n",
       "      <td>0</td>\n",
       "      <td>1</td>\n",
       "      <td>0.24</td>\n",
       "      <td>0.2879</td>\n",
       "      <td>0.81</td>\n",
       "      <td>0.0</td>\n",
       "      <td>3</td>\n",
       "      <td>13</td>\n",
       "      <td>16</td>\n",
       "    </tr>\n",
       "    <tr>\n",
       "      <th>1</th>\n",
       "      <td>2</td>\n",
       "      <td>2011-01-01</td>\n",
       "      <td>1</td>\n",
       "      <td>0</td>\n",
       "      <td>1</td>\n",
       "      <td>1</td>\n",
       "      <td>0</td>\n",
       "      <td>6</td>\n",
       "      <td>0</td>\n",
       "      <td>1</td>\n",
       "      <td>0.22</td>\n",
       "      <td>0.2727</td>\n",
       "      <td>0.80</td>\n",
       "      <td>0.0</td>\n",
       "      <td>8</td>\n",
       "      <td>32</td>\n",
       "      <td>40</td>\n",
       "    </tr>\n",
       "    <tr>\n",
       "      <th>2</th>\n",
       "      <td>3</td>\n",
       "      <td>2011-01-01</td>\n",
       "      <td>1</td>\n",
       "      <td>0</td>\n",
       "      <td>1</td>\n",
       "      <td>2</td>\n",
       "      <td>0</td>\n",
       "      <td>6</td>\n",
       "      <td>0</td>\n",
       "      <td>1</td>\n",
       "      <td>0.22</td>\n",
       "      <td>0.2727</td>\n",
       "      <td>0.80</td>\n",
       "      <td>0.0</td>\n",
       "      <td>5</td>\n",
       "      <td>27</td>\n",
       "      <td>32</td>\n",
       "    </tr>\n",
       "    <tr>\n",
       "      <th>3</th>\n",
       "      <td>4</td>\n",
       "      <td>2011-01-01</td>\n",
       "      <td>1</td>\n",
       "      <td>0</td>\n",
       "      <td>1</td>\n",
       "      <td>3</td>\n",
       "      <td>0</td>\n",
       "      <td>6</td>\n",
       "      <td>0</td>\n",
       "      <td>1</td>\n",
       "      <td>0.24</td>\n",
       "      <td>0.2879</td>\n",
       "      <td>0.75</td>\n",
       "      <td>0.0</td>\n",
       "      <td>3</td>\n",
       "      <td>10</td>\n",
       "      <td>13</td>\n",
       "    </tr>\n",
       "    <tr>\n",
       "      <th>4</th>\n",
       "      <td>5</td>\n",
       "      <td>2011-01-01</td>\n",
       "      <td>1</td>\n",
       "      <td>0</td>\n",
       "      <td>1</td>\n",
       "      <td>4</td>\n",
       "      <td>0</td>\n",
       "      <td>6</td>\n",
       "      <td>0</td>\n",
       "      <td>1</td>\n",
       "      <td>0.24</td>\n",
       "      <td>0.2879</td>\n",
       "      <td>0.75</td>\n",
       "      <td>0.0</td>\n",
       "      <td>0</td>\n",
       "      <td>1</td>\n",
       "      <td>1</td>\n",
       "    </tr>\n",
       "  </tbody>\n",
       "</table>\n",
       "</div>"
      ],
      "text/plain": [
       "   instant      dteday  season  yr  mnth  hr  holiday  weekday  workingday  \\\n",
       "0        1  2011-01-01       1   0     1   0        0        6           0   \n",
       "1        2  2011-01-01       1   0     1   1        0        6           0   \n",
       "2        3  2011-01-01       1   0     1   2        0        6           0   \n",
       "3        4  2011-01-01       1   0     1   3        0        6           0   \n",
       "4        5  2011-01-01       1   0     1   4        0        6           0   \n",
       "\n",
       "   weathersit  temp   atemp   hum  windspeed  casual  registered  cnt  \n",
       "0           1  0.24  0.2879  0.81        0.0       3          13   16  \n",
       "1           1  0.22  0.2727  0.80        0.0       8          32   40  \n",
       "2           1  0.22  0.2727  0.80        0.0       5          27   32  \n",
       "3           1  0.24  0.2879  0.75        0.0       3          10   13  \n",
       "4           1  0.24  0.2879  0.75        0.0       0           1    1  "
      ]
     },
     "execution_count": 64,
     "metadata": {},
     "output_type": "execute_result"
    }
   ],
   "source": [
    "hour_df = pd.read_csv(\"./data/hour.csv\")\n",
    "hour_df.head()"
   ]
  },
  {
   "cell_type": "markdown",
   "metadata": {
    "id": "MMi6xGaDkbCi"
   },
   "source": [
    "**Insight:**\n",
    "- memuat data dari data `day.csv` berhasil dilakukan, dan ditampung kedalam variabel `day_df`\n",
    "- memuat data dari data `hour.csv` berhasil dilakukan, dan ditampung kedalam variabel `hour_df`"
   ]
  },
  {
   "cell_type": "markdown",
   "metadata": {
    "id": "FHSiqaZp8DC1"
   },
   "source": [
    "### Assessing Data"
   ]
  },
  {
   "cell_type": "markdown",
   "metadata": {},
   "source": [
    "#### Menilai Data `day_df`"
   ]
  },
  {
   "cell_type": "markdown",
   "metadata": {},
   "source": [
    "Memeriksa tipe data data dari tiap kolom yang terdapat dalam `day_df`"
   ]
  },
  {
   "cell_type": "code",
   "execution_count": 65,
   "metadata": {
    "id": "ax-3tEjc9Cj1"
   },
   "outputs": [
    {
     "name": "stdout",
     "output_type": "stream",
     "text": [
      "<class 'pandas.core.frame.DataFrame'>\n",
      "RangeIndex: 731 entries, 0 to 730\n",
      "Data columns (total 16 columns):\n",
      " #   Column      Non-Null Count  Dtype  \n",
      "---  ------      --------------  -----  \n",
      " 0   instant     731 non-null    int64  \n",
      " 1   dteday      731 non-null    object \n",
      " 2   season      731 non-null    int64  \n",
      " 3   yr          731 non-null    int64  \n",
      " 4   mnth        731 non-null    int64  \n",
      " 5   holiday     731 non-null    int64  \n",
      " 6   weekday     731 non-null    int64  \n",
      " 7   workingday  731 non-null    int64  \n",
      " 8   weathersit  731 non-null    int64  \n",
      " 9   temp        731 non-null    float64\n",
      " 10  atemp       731 non-null    float64\n",
      " 11  hum         731 non-null    float64\n",
      " 12  windspeed   731 non-null    float64\n",
      " 13  casual      731 non-null    int64  \n",
      " 14  registered  731 non-null    int64  \n",
      " 15  cnt         731 non-null    int64  \n",
      "dtypes: float64(4), int64(11), object(1)\n",
      "memory usage: 91.5+ KB\n"
     ]
    }
   ],
   "source": [
    "day_df.info()"
   ]
  },
  {
   "cell_type": "markdown",
   "metadata": {},
   "source": [
    "Memeriksa jumlah duplikasi data pada data `day_df`"
   ]
  },
  {
   "cell_type": "code",
   "execution_count": 66,
   "metadata": {},
   "outputs": [
    {
     "name": "stdout",
     "output_type": "stream",
     "text": [
      "Jumlah duplikasi:  0\n"
     ]
    }
   ],
   "source": [
    "print(\"Jumlah duplikasi: \", day_df.duplicated().sum())"
   ]
  },
  {
   "cell_type": "markdown",
   "metadata": {},
   "source": [
    "Memeriksa parameter statistik yang terdapat dalam `day_df`"
   ]
  },
  {
   "cell_type": "code",
   "execution_count": 67,
   "metadata": {},
   "outputs": [
    {
     "data": {
      "text/html": [
       "<div>\n",
       "<style scoped>\n",
       "    .dataframe tbody tr th:only-of-type {\n",
       "        vertical-align: middle;\n",
       "    }\n",
       "\n",
       "    .dataframe tbody tr th {\n",
       "        vertical-align: top;\n",
       "    }\n",
       "\n",
       "    .dataframe thead th {\n",
       "        text-align: right;\n",
       "    }\n",
       "</style>\n",
       "<table border=\"1\" class=\"dataframe\">\n",
       "  <thead>\n",
       "    <tr style=\"text-align: right;\">\n",
       "      <th></th>\n",
       "      <th>instant</th>\n",
       "      <th>season</th>\n",
       "      <th>yr</th>\n",
       "      <th>mnth</th>\n",
       "      <th>holiday</th>\n",
       "      <th>weekday</th>\n",
       "      <th>workingday</th>\n",
       "      <th>weathersit</th>\n",
       "      <th>temp</th>\n",
       "      <th>atemp</th>\n",
       "      <th>hum</th>\n",
       "      <th>windspeed</th>\n",
       "      <th>casual</th>\n",
       "      <th>registered</th>\n",
       "      <th>cnt</th>\n",
       "    </tr>\n",
       "  </thead>\n",
       "  <tbody>\n",
       "    <tr>\n",
       "      <th>count</th>\n",
       "      <td>731.000000</td>\n",
       "      <td>731.000000</td>\n",
       "      <td>731.000000</td>\n",
       "      <td>731.000000</td>\n",
       "      <td>731.000000</td>\n",
       "      <td>731.000000</td>\n",
       "      <td>731.000000</td>\n",
       "      <td>731.000000</td>\n",
       "      <td>731.000000</td>\n",
       "      <td>731.000000</td>\n",
       "      <td>731.000000</td>\n",
       "      <td>731.000000</td>\n",
       "      <td>731.000000</td>\n",
       "      <td>731.000000</td>\n",
       "      <td>731.000000</td>\n",
       "    </tr>\n",
       "    <tr>\n",
       "      <th>mean</th>\n",
       "      <td>366.000000</td>\n",
       "      <td>2.496580</td>\n",
       "      <td>0.500684</td>\n",
       "      <td>6.519836</td>\n",
       "      <td>0.028728</td>\n",
       "      <td>2.997264</td>\n",
       "      <td>0.683995</td>\n",
       "      <td>1.395349</td>\n",
       "      <td>0.495385</td>\n",
       "      <td>0.474354</td>\n",
       "      <td>0.627894</td>\n",
       "      <td>0.190486</td>\n",
       "      <td>848.176471</td>\n",
       "      <td>3656.172367</td>\n",
       "      <td>4504.348837</td>\n",
       "    </tr>\n",
       "    <tr>\n",
       "      <th>std</th>\n",
       "      <td>211.165812</td>\n",
       "      <td>1.110807</td>\n",
       "      <td>0.500342</td>\n",
       "      <td>3.451913</td>\n",
       "      <td>0.167155</td>\n",
       "      <td>2.004787</td>\n",
       "      <td>0.465233</td>\n",
       "      <td>0.544894</td>\n",
       "      <td>0.183051</td>\n",
       "      <td>0.162961</td>\n",
       "      <td>0.142429</td>\n",
       "      <td>0.077498</td>\n",
       "      <td>686.622488</td>\n",
       "      <td>1560.256377</td>\n",
       "      <td>1937.211452</td>\n",
       "    </tr>\n",
       "    <tr>\n",
       "      <th>min</th>\n",
       "      <td>1.000000</td>\n",
       "      <td>1.000000</td>\n",
       "      <td>0.000000</td>\n",
       "      <td>1.000000</td>\n",
       "      <td>0.000000</td>\n",
       "      <td>0.000000</td>\n",
       "      <td>0.000000</td>\n",
       "      <td>1.000000</td>\n",
       "      <td>0.059130</td>\n",
       "      <td>0.079070</td>\n",
       "      <td>0.000000</td>\n",
       "      <td>0.022392</td>\n",
       "      <td>2.000000</td>\n",
       "      <td>20.000000</td>\n",
       "      <td>22.000000</td>\n",
       "    </tr>\n",
       "    <tr>\n",
       "      <th>25%</th>\n",
       "      <td>183.500000</td>\n",
       "      <td>2.000000</td>\n",
       "      <td>0.000000</td>\n",
       "      <td>4.000000</td>\n",
       "      <td>0.000000</td>\n",
       "      <td>1.000000</td>\n",
       "      <td>0.000000</td>\n",
       "      <td>1.000000</td>\n",
       "      <td>0.337083</td>\n",
       "      <td>0.337842</td>\n",
       "      <td>0.520000</td>\n",
       "      <td>0.134950</td>\n",
       "      <td>315.500000</td>\n",
       "      <td>2497.000000</td>\n",
       "      <td>3152.000000</td>\n",
       "    </tr>\n",
       "    <tr>\n",
       "      <th>50%</th>\n",
       "      <td>366.000000</td>\n",
       "      <td>3.000000</td>\n",
       "      <td>1.000000</td>\n",
       "      <td>7.000000</td>\n",
       "      <td>0.000000</td>\n",
       "      <td>3.000000</td>\n",
       "      <td>1.000000</td>\n",
       "      <td>1.000000</td>\n",
       "      <td>0.498333</td>\n",
       "      <td>0.486733</td>\n",
       "      <td>0.626667</td>\n",
       "      <td>0.180975</td>\n",
       "      <td>713.000000</td>\n",
       "      <td>3662.000000</td>\n",
       "      <td>4548.000000</td>\n",
       "    </tr>\n",
       "    <tr>\n",
       "      <th>75%</th>\n",
       "      <td>548.500000</td>\n",
       "      <td>3.000000</td>\n",
       "      <td>1.000000</td>\n",
       "      <td>10.000000</td>\n",
       "      <td>0.000000</td>\n",
       "      <td>5.000000</td>\n",
       "      <td>1.000000</td>\n",
       "      <td>2.000000</td>\n",
       "      <td>0.655417</td>\n",
       "      <td>0.608602</td>\n",
       "      <td>0.730209</td>\n",
       "      <td>0.233214</td>\n",
       "      <td>1096.000000</td>\n",
       "      <td>4776.500000</td>\n",
       "      <td>5956.000000</td>\n",
       "    </tr>\n",
       "    <tr>\n",
       "      <th>max</th>\n",
       "      <td>731.000000</td>\n",
       "      <td>4.000000</td>\n",
       "      <td>1.000000</td>\n",
       "      <td>12.000000</td>\n",
       "      <td>1.000000</td>\n",
       "      <td>6.000000</td>\n",
       "      <td>1.000000</td>\n",
       "      <td>3.000000</td>\n",
       "      <td>0.861667</td>\n",
       "      <td>0.840896</td>\n",
       "      <td>0.972500</td>\n",
       "      <td>0.507463</td>\n",
       "      <td>3410.000000</td>\n",
       "      <td>6946.000000</td>\n",
       "      <td>8714.000000</td>\n",
       "    </tr>\n",
       "  </tbody>\n",
       "</table>\n",
       "</div>"
      ],
      "text/plain": [
       "          instant      season          yr        mnth     holiday     weekday  \\\n",
       "count  731.000000  731.000000  731.000000  731.000000  731.000000  731.000000   \n",
       "mean   366.000000    2.496580    0.500684    6.519836    0.028728    2.997264   \n",
       "std    211.165812    1.110807    0.500342    3.451913    0.167155    2.004787   \n",
       "min      1.000000    1.000000    0.000000    1.000000    0.000000    0.000000   \n",
       "25%    183.500000    2.000000    0.000000    4.000000    0.000000    1.000000   \n",
       "50%    366.000000    3.000000    1.000000    7.000000    0.000000    3.000000   \n",
       "75%    548.500000    3.000000    1.000000   10.000000    0.000000    5.000000   \n",
       "max    731.000000    4.000000    1.000000   12.000000    1.000000    6.000000   \n",
       "\n",
       "       workingday  weathersit        temp       atemp         hum   windspeed  \\\n",
       "count  731.000000  731.000000  731.000000  731.000000  731.000000  731.000000   \n",
       "mean     0.683995    1.395349    0.495385    0.474354    0.627894    0.190486   \n",
       "std      0.465233    0.544894    0.183051    0.162961    0.142429    0.077498   \n",
       "min      0.000000    1.000000    0.059130    0.079070    0.000000    0.022392   \n",
       "25%      0.000000    1.000000    0.337083    0.337842    0.520000    0.134950   \n",
       "50%      1.000000    1.000000    0.498333    0.486733    0.626667    0.180975   \n",
       "75%      1.000000    2.000000    0.655417    0.608602    0.730209    0.233214   \n",
       "max      1.000000    3.000000    0.861667    0.840896    0.972500    0.507463   \n",
       "\n",
       "            casual   registered          cnt  \n",
       "count   731.000000   731.000000   731.000000  \n",
       "mean    848.176471  3656.172367  4504.348837  \n",
       "std     686.622488  1560.256377  1937.211452  \n",
       "min       2.000000    20.000000    22.000000  \n",
       "25%     315.500000  2497.000000  3152.000000  \n",
       "50%     713.000000  3662.000000  4548.000000  \n",
       "75%    1096.000000  4776.500000  5956.000000  \n",
       "max    3410.000000  6946.000000  8714.000000  "
      ]
     },
     "execution_count": 67,
     "metadata": {},
     "output_type": "execute_result"
    }
   ],
   "source": [
    "day_df.describe()"
   ]
  },
  {
   "cell_type": "markdown",
   "metadata": {},
   "source": [
    "#### Menilai Data `hour_df`"
   ]
  },
  {
   "cell_type": "markdown",
   "metadata": {},
   "source": [
    "Memeriksa tipe data data dari tiap kolom yang terdapat dalam `hour_df`"
   ]
  },
  {
   "cell_type": "code",
   "execution_count": 68,
   "metadata": {},
   "outputs": [
    {
     "name": "stdout",
     "output_type": "stream",
     "text": [
      "<class 'pandas.core.frame.DataFrame'>\n",
      "RangeIndex: 17379 entries, 0 to 17378\n",
      "Data columns (total 17 columns):\n",
      " #   Column      Non-Null Count  Dtype  \n",
      "---  ------      --------------  -----  \n",
      " 0   instant     17379 non-null  int64  \n",
      " 1   dteday      17379 non-null  object \n",
      " 2   season      17379 non-null  int64  \n",
      " 3   yr          17379 non-null  int64  \n",
      " 4   mnth        17379 non-null  int64  \n",
      " 5   hr          17379 non-null  int64  \n",
      " 6   holiday     17379 non-null  int64  \n",
      " 7   weekday     17379 non-null  int64  \n",
      " 8   workingday  17379 non-null  int64  \n",
      " 9   weathersit  17379 non-null  int64  \n",
      " 10  temp        17379 non-null  float64\n",
      " 11  atemp       17379 non-null  float64\n",
      " 12  hum         17379 non-null  float64\n",
      " 13  windspeed   17379 non-null  float64\n",
      " 14  casual      17379 non-null  int64  \n",
      " 15  registered  17379 non-null  int64  \n",
      " 16  cnt         17379 non-null  int64  \n",
      "dtypes: float64(4), int64(12), object(1)\n",
      "memory usage: 2.3+ MB\n"
     ]
    }
   ],
   "source": [
    "hour_df.info()"
   ]
  },
  {
   "cell_type": "markdown",
   "metadata": {},
   "source": [
    "Memeriksa jumlah duplikasi data pada data `hour_df`"
   ]
  },
  {
   "cell_type": "code",
   "execution_count": 69,
   "metadata": {},
   "outputs": [
    {
     "name": "stdout",
     "output_type": "stream",
     "text": [
      "Jumlah duplikasi:  0\n"
     ]
    }
   ],
   "source": [
    "print(\"Jumlah duplikasi: \", hour_df.duplicated().sum())"
   ]
  },
  {
   "cell_type": "markdown",
   "metadata": {},
   "source": [
    "Memeriksa parameter statistik yang terdapat dalam `hour_df`"
   ]
  },
  {
   "cell_type": "code",
   "execution_count": 70,
   "metadata": {},
   "outputs": [
    {
     "data": {
      "text/html": [
       "<div>\n",
       "<style scoped>\n",
       "    .dataframe tbody tr th:only-of-type {\n",
       "        vertical-align: middle;\n",
       "    }\n",
       "\n",
       "    .dataframe tbody tr th {\n",
       "        vertical-align: top;\n",
       "    }\n",
       "\n",
       "    .dataframe thead th {\n",
       "        text-align: right;\n",
       "    }\n",
       "</style>\n",
       "<table border=\"1\" class=\"dataframe\">\n",
       "  <thead>\n",
       "    <tr style=\"text-align: right;\">\n",
       "      <th></th>\n",
       "      <th>instant</th>\n",
       "      <th>season</th>\n",
       "      <th>yr</th>\n",
       "      <th>mnth</th>\n",
       "      <th>hr</th>\n",
       "      <th>holiday</th>\n",
       "      <th>weekday</th>\n",
       "      <th>workingday</th>\n",
       "      <th>weathersit</th>\n",
       "      <th>temp</th>\n",
       "      <th>atemp</th>\n",
       "      <th>hum</th>\n",
       "      <th>windspeed</th>\n",
       "      <th>casual</th>\n",
       "      <th>registered</th>\n",
       "      <th>cnt</th>\n",
       "    </tr>\n",
       "  </thead>\n",
       "  <tbody>\n",
       "    <tr>\n",
       "      <th>count</th>\n",
       "      <td>17379.0000</td>\n",
       "      <td>17379.000000</td>\n",
       "      <td>17379.000000</td>\n",
       "      <td>17379.000000</td>\n",
       "      <td>17379.000000</td>\n",
       "      <td>17379.000000</td>\n",
       "      <td>17379.000000</td>\n",
       "      <td>17379.000000</td>\n",
       "      <td>17379.000000</td>\n",
       "      <td>17379.000000</td>\n",
       "      <td>17379.000000</td>\n",
       "      <td>17379.000000</td>\n",
       "      <td>17379.000000</td>\n",
       "      <td>17379.000000</td>\n",
       "      <td>17379.000000</td>\n",
       "      <td>17379.000000</td>\n",
       "    </tr>\n",
       "    <tr>\n",
       "      <th>mean</th>\n",
       "      <td>8690.0000</td>\n",
       "      <td>2.501640</td>\n",
       "      <td>0.502561</td>\n",
       "      <td>6.537775</td>\n",
       "      <td>11.546752</td>\n",
       "      <td>0.028770</td>\n",
       "      <td>3.003683</td>\n",
       "      <td>0.682721</td>\n",
       "      <td>1.425283</td>\n",
       "      <td>0.496987</td>\n",
       "      <td>0.475775</td>\n",
       "      <td>0.627229</td>\n",
       "      <td>0.190098</td>\n",
       "      <td>35.676218</td>\n",
       "      <td>153.786869</td>\n",
       "      <td>189.463088</td>\n",
       "    </tr>\n",
       "    <tr>\n",
       "      <th>std</th>\n",
       "      <td>5017.0295</td>\n",
       "      <td>1.106918</td>\n",
       "      <td>0.500008</td>\n",
       "      <td>3.438776</td>\n",
       "      <td>6.914405</td>\n",
       "      <td>0.167165</td>\n",
       "      <td>2.005771</td>\n",
       "      <td>0.465431</td>\n",
       "      <td>0.639357</td>\n",
       "      <td>0.192556</td>\n",
       "      <td>0.171850</td>\n",
       "      <td>0.192930</td>\n",
       "      <td>0.122340</td>\n",
       "      <td>49.305030</td>\n",
       "      <td>151.357286</td>\n",
       "      <td>181.387599</td>\n",
       "    </tr>\n",
       "    <tr>\n",
       "      <th>min</th>\n",
       "      <td>1.0000</td>\n",
       "      <td>1.000000</td>\n",
       "      <td>0.000000</td>\n",
       "      <td>1.000000</td>\n",
       "      <td>0.000000</td>\n",
       "      <td>0.000000</td>\n",
       "      <td>0.000000</td>\n",
       "      <td>0.000000</td>\n",
       "      <td>1.000000</td>\n",
       "      <td>0.020000</td>\n",
       "      <td>0.000000</td>\n",
       "      <td>0.000000</td>\n",
       "      <td>0.000000</td>\n",
       "      <td>0.000000</td>\n",
       "      <td>0.000000</td>\n",
       "      <td>1.000000</td>\n",
       "    </tr>\n",
       "    <tr>\n",
       "      <th>25%</th>\n",
       "      <td>4345.5000</td>\n",
       "      <td>2.000000</td>\n",
       "      <td>0.000000</td>\n",
       "      <td>4.000000</td>\n",
       "      <td>6.000000</td>\n",
       "      <td>0.000000</td>\n",
       "      <td>1.000000</td>\n",
       "      <td>0.000000</td>\n",
       "      <td>1.000000</td>\n",
       "      <td>0.340000</td>\n",
       "      <td>0.333300</td>\n",
       "      <td>0.480000</td>\n",
       "      <td>0.104500</td>\n",
       "      <td>4.000000</td>\n",
       "      <td>34.000000</td>\n",
       "      <td>40.000000</td>\n",
       "    </tr>\n",
       "    <tr>\n",
       "      <th>50%</th>\n",
       "      <td>8690.0000</td>\n",
       "      <td>3.000000</td>\n",
       "      <td>1.000000</td>\n",
       "      <td>7.000000</td>\n",
       "      <td>12.000000</td>\n",
       "      <td>0.000000</td>\n",
       "      <td>3.000000</td>\n",
       "      <td>1.000000</td>\n",
       "      <td>1.000000</td>\n",
       "      <td>0.500000</td>\n",
       "      <td>0.484800</td>\n",
       "      <td>0.630000</td>\n",
       "      <td>0.194000</td>\n",
       "      <td>17.000000</td>\n",
       "      <td>115.000000</td>\n",
       "      <td>142.000000</td>\n",
       "    </tr>\n",
       "    <tr>\n",
       "      <th>75%</th>\n",
       "      <td>13034.5000</td>\n",
       "      <td>3.000000</td>\n",
       "      <td>1.000000</td>\n",
       "      <td>10.000000</td>\n",
       "      <td>18.000000</td>\n",
       "      <td>0.000000</td>\n",
       "      <td>5.000000</td>\n",
       "      <td>1.000000</td>\n",
       "      <td>2.000000</td>\n",
       "      <td>0.660000</td>\n",
       "      <td>0.621200</td>\n",
       "      <td>0.780000</td>\n",
       "      <td>0.253700</td>\n",
       "      <td>48.000000</td>\n",
       "      <td>220.000000</td>\n",
       "      <td>281.000000</td>\n",
       "    </tr>\n",
       "    <tr>\n",
       "      <th>max</th>\n",
       "      <td>17379.0000</td>\n",
       "      <td>4.000000</td>\n",
       "      <td>1.000000</td>\n",
       "      <td>12.000000</td>\n",
       "      <td>23.000000</td>\n",
       "      <td>1.000000</td>\n",
       "      <td>6.000000</td>\n",
       "      <td>1.000000</td>\n",
       "      <td>4.000000</td>\n",
       "      <td>1.000000</td>\n",
       "      <td>1.000000</td>\n",
       "      <td>1.000000</td>\n",
       "      <td>0.850700</td>\n",
       "      <td>367.000000</td>\n",
       "      <td>886.000000</td>\n",
       "      <td>977.000000</td>\n",
       "    </tr>\n",
       "  </tbody>\n",
       "</table>\n",
       "</div>"
      ],
      "text/plain": [
       "          instant        season            yr          mnth            hr  \\\n",
       "count  17379.0000  17379.000000  17379.000000  17379.000000  17379.000000   \n",
       "mean    8690.0000      2.501640      0.502561      6.537775     11.546752   \n",
       "std     5017.0295      1.106918      0.500008      3.438776      6.914405   \n",
       "min        1.0000      1.000000      0.000000      1.000000      0.000000   \n",
       "25%     4345.5000      2.000000      0.000000      4.000000      6.000000   \n",
       "50%     8690.0000      3.000000      1.000000      7.000000     12.000000   \n",
       "75%    13034.5000      3.000000      1.000000     10.000000     18.000000   \n",
       "max    17379.0000      4.000000      1.000000     12.000000     23.000000   \n",
       "\n",
       "            holiday       weekday    workingday    weathersit          temp  \\\n",
       "count  17379.000000  17379.000000  17379.000000  17379.000000  17379.000000   \n",
       "mean       0.028770      3.003683      0.682721      1.425283      0.496987   \n",
       "std        0.167165      2.005771      0.465431      0.639357      0.192556   \n",
       "min        0.000000      0.000000      0.000000      1.000000      0.020000   \n",
       "25%        0.000000      1.000000      0.000000      1.000000      0.340000   \n",
       "50%        0.000000      3.000000      1.000000      1.000000      0.500000   \n",
       "75%        0.000000      5.000000      1.000000      2.000000      0.660000   \n",
       "max        1.000000      6.000000      1.000000      4.000000      1.000000   \n",
       "\n",
       "              atemp           hum     windspeed        casual    registered  \\\n",
       "count  17379.000000  17379.000000  17379.000000  17379.000000  17379.000000   \n",
       "mean       0.475775      0.627229      0.190098     35.676218    153.786869   \n",
       "std        0.171850      0.192930      0.122340     49.305030    151.357286   \n",
       "min        0.000000      0.000000      0.000000      0.000000      0.000000   \n",
       "25%        0.333300      0.480000      0.104500      4.000000     34.000000   \n",
       "50%        0.484800      0.630000      0.194000     17.000000    115.000000   \n",
       "75%        0.621200      0.780000      0.253700     48.000000    220.000000   \n",
       "max        1.000000      1.000000      0.850700    367.000000    886.000000   \n",
       "\n",
       "                cnt  \n",
       "count  17379.000000  \n",
       "mean     189.463088  \n",
       "std      181.387599  \n",
       "min        1.000000  \n",
       "25%       40.000000  \n",
       "50%      142.000000  \n",
       "75%      281.000000  \n",
       "max      977.000000  "
      ]
     },
     "execution_count": 70,
     "metadata": {},
     "output_type": "execute_result"
    }
   ],
   "source": [
    "hour_df.describe()"
   ]
  },
  {
   "cell_type": "markdown",
   "metadata": {
    "id": "7dtxhAPrkhPL"
   },
   "source": [
    "**Insight:**\n",
    "- kolom `dteday` pada data `day_df` bertipe data object, sehingga perlu diubah ke tipe data datetime\n",
    "- kolom `dteday` pada data `hour_df` bertipe data object, sehingga perlu diubah ke tipe data datetime"
   ]
  },
  {
   "cell_type": "markdown",
   "metadata": {
    "id": "EhN5R4hr8DC1"
   },
   "source": [
    "### Cleaning Data"
   ]
  },
  {
   "cell_type": "markdown",
   "metadata": {},
   "source": [
    "#### Cleaning data `day_df`"
   ]
  },
  {
   "cell_type": "markdown",
   "metadata": {},
   "source": [
    "Mengubah tipe data pada kolom `dteday` dari object menjadi datetime"
   ]
  },
  {
   "cell_type": "code",
   "execution_count": 71,
   "metadata": {
    "id": "jVnYpprE9Evz"
   },
   "outputs": [],
   "source": [
    "day_df[\"dteday\"] = pd.to_datetime(day_df[\"dteday\"])"
   ]
  },
  {
   "cell_type": "markdown",
   "metadata": {},
   "source": [
    "Memeriksa kembali tipe data kolom `dteday` apakah sudah berubah menjadi tipe data datetime"
   ]
  },
  {
   "cell_type": "code",
   "execution_count": 72,
   "metadata": {},
   "outputs": [
    {
     "name": "stdout",
     "output_type": "stream",
     "text": [
      "<class 'pandas.core.frame.DataFrame'>\n",
      "RangeIndex: 731 entries, 0 to 730\n",
      "Data columns (total 16 columns):\n",
      " #   Column      Non-Null Count  Dtype         \n",
      "---  ------      --------------  -----         \n",
      " 0   instant     731 non-null    int64         \n",
      " 1   dteday      731 non-null    datetime64[ns]\n",
      " 2   season      731 non-null    int64         \n",
      " 3   yr          731 non-null    int64         \n",
      " 4   mnth        731 non-null    int64         \n",
      " 5   holiday     731 non-null    int64         \n",
      " 6   weekday     731 non-null    int64         \n",
      " 7   workingday  731 non-null    int64         \n",
      " 8   weathersit  731 non-null    int64         \n",
      " 9   temp        731 non-null    float64       \n",
      " 10  atemp       731 non-null    float64       \n",
      " 11  hum         731 non-null    float64       \n",
      " 12  windspeed   731 non-null    float64       \n",
      " 13  casual      731 non-null    int64         \n",
      " 14  registered  731 non-null    int64         \n",
      " 15  cnt         731 non-null    int64         \n",
      "dtypes: datetime64[ns](1), float64(4), int64(11)\n",
      "memory usage: 91.5 KB\n"
     ]
    }
   ],
   "source": [
    "day_df.info()"
   ]
  },
  {
   "cell_type": "markdown",
   "metadata": {},
   "source": [
    "#### Cleaning data `hour_df`"
   ]
  },
  {
   "cell_type": "markdown",
   "metadata": {},
   "source": [
    "Mengubah tipe data pada kolom `dteday` dari object menjadi datetime"
   ]
  },
  {
   "cell_type": "code",
   "execution_count": 73,
   "metadata": {},
   "outputs": [],
   "source": [
    "hour_df[\"dteday\"] = pd.to_datetime(hour_df[\"dteday\"])"
   ]
  },
  {
   "cell_type": "markdown",
   "metadata": {},
   "source": [
    "Memeriksa kembali tipe data kolom `dteday` apakah sudah berubah menjadi tipe data datetime"
   ]
  },
  {
   "cell_type": "code",
   "execution_count": 74,
   "metadata": {},
   "outputs": [
    {
     "name": "stdout",
     "output_type": "stream",
     "text": [
      "<class 'pandas.core.frame.DataFrame'>\n",
      "RangeIndex: 17379 entries, 0 to 17378\n",
      "Data columns (total 17 columns):\n",
      " #   Column      Non-Null Count  Dtype         \n",
      "---  ------      --------------  -----         \n",
      " 0   instant     17379 non-null  int64         \n",
      " 1   dteday      17379 non-null  datetime64[ns]\n",
      " 2   season      17379 non-null  int64         \n",
      " 3   yr          17379 non-null  int64         \n",
      " 4   mnth        17379 non-null  int64         \n",
      " 5   hr          17379 non-null  int64         \n",
      " 6   holiday     17379 non-null  int64         \n",
      " 7   weekday     17379 non-null  int64         \n",
      " 8   workingday  17379 non-null  int64         \n",
      " 9   weathersit  17379 non-null  int64         \n",
      " 10  temp        17379 non-null  float64       \n",
      " 11  atemp       17379 non-null  float64       \n",
      " 12  hum         17379 non-null  float64       \n",
      " 13  windspeed   17379 non-null  float64       \n",
      " 14  casual      17379 non-null  int64         \n",
      " 15  registered  17379 non-null  int64         \n",
      " 16  cnt         17379 non-null  int64         \n",
      "dtypes: datetime64[ns](1), float64(4), int64(12)\n",
      "memory usage: 2.3 MB\n"
     ]
    }
   ],
   "source": [
    "hour_df.info()"
   ]
  },
  {
   "cell_type": "markdown",
   "metadata": {
    "id": "Q_5ejIqckiSP"
   },
   "source": [
    "### **Insight:**\n",
    "- Berhasil mengubah tipe data pada kolom `dteday` data `day_df` dari tipe data object menjadi datetime\n",
    "- Berhasil mengubah tipe data pada kolom `dteday` data `hour_df` dari tipe data object menjadi datetime "
   ]
  },
  {
   "cell_type": "markdown",
   "metadata": {
    "id": "gp-Y6wU38DC1"
   },
   "source": [
    "## Exploratory Data Analysis (EDA)"
   ]
  },
  {
   "cell_type": "markdown",
   "metadata": {
    "id": "MW7WF2kr8DC1"
   },
   "source": [
    "### Explorasi Data `day_df`"
   ]
  },
  {
   "cell_type": "code",
   "execution_count": 75,
   "metadata": {
    "id": "e9CQCZjk8DC2"
   },
   "outputs": [
    {
     "data": {
      "text/html": [
       "<div>\n",
       "<style scoped>\n",
       "    .dataframe tbody tr th:only-of-type {\n",
       "        vertical-align: middle;\n",
       "    }\n",
       "\n",
       "    .dataframe tbody tr th {\n",
       "        vertical-align: top;\n",
       "    }\n",
       "\n",
       "    .dataframe thead th {\n",
       "        text-align: right;\n",
       "    }\n",
       "</style>\n",
       "<table border=\"1\" class=\"dataframe\">\n",
       "  <thead>\n",
       "    <tr style=\"text-align: right;\">\n",
       "      <th></th>\n",
       "      <th>instant</th>\n",
       "      <th>dteday</th>\n",
       "      <th>season</th>\n",
       "      <th>yr</th>\n",
       "      <th>mnth</th>\n",
       "      <th>holiday</th>\n",
       "      <th>weekday</th>\n",
       "      <th>workingday</th>\n",
       "      <th>weathersit</th>\n",
       "      <th>temp</th>\n",
       "      <th>atemp</th>\n",
       "      <th>hum</th>\n",
       "      <th>windspeed</th>\n",
       "      <th>casual</th>\n",
       "      <th>registered</th>\n",
       "      <th>cnt</th>\n",
       "    </tr>\n",
       "  </thead>\n",
       "  <tbody>\n",
       "    <tr>\n",
       "      <th>count</th>\n",
       "      <td>731.000000</td>\n",
       "      <td>731</td>\n",
       "      <td>731.000000</td>\n",
       "      <td>731.000000</td>\n",
       "      <td>731.000000</td>\n",
       "      <td>731.000000</td>\n",
       "      <td>731.000000</td>\n",
       "      <td>731.000000</td>\n",
       "      <td>731.000000</td>\n",
       "      <td>731.000000</td>\n",
       "      <td>731.000000</td>\n",
       "      <td>731.000000</td>\n",
       "      <td>731.000000</td>\n",
       "      <td>731.000000</td>\n",
       "      <td>731.000000</td>\n",
       "      <td>731.000000</td>\n",
       "    </tr>\n",
       "    <tr>\n",
       "      <th>mean</th>\n",
       "      <td>366.000000</td>\n",
       "      <td>2012-01-01 00:00:00</td>\n",
       "      <td>2.496580</td>\n",
       "      <td>0.500684</td>\n",
       "      <td>6.519836</td>\n",
       "      <td>0.028728</td>\n",
       "      <td>2.997264</td>\n",
       "      <td>0.683995</td>\n",
       "      <td>1.395349</td>\n",
       "      <td>0.495385</td>\n",
       "      <td>0.474354</td>\n",
       "      <td>0.627894</td>\n",
       "      <td>0.190486</td>\n",
       "      <td>848.176471</td>\n",
       "      <td>3656.172367</td>\n",
       "      <td>4504.348837</td>\n",
       "    </tr>\n",
       "    <tr>\n",
       "      <th>min</th>\n",
       "      <td>1.000000</td>\n",
       "      <td>2011-01-01 00:00:00</td>\n",
       "      <td>1.000000</td>\n",
       "      <td>0.000000</td>\n",
       "      <td>1.000000</td>\n",
       "      <td>0.000000</td>\n",
       "      <td>0.000000</td>\n",
       "      <td>0.000000</td>\n",
       "      <td>1.000000</td>\n",
       "      <td>0.059130</td>\n",
       "      <td>0.079070</td>\n",
       "      <td>0.000000</td>\n",
       "      <td>0.022392</td>\n",
       "      <td>2.000000</td>\n",
       "      <td>20.000000</td>\n",
       "      <td>22.000000</td>\n",
       "    </tr>\n",
       "    <tr>\n",
       "      <th>25%</th>\n",
       "      <td>183.500000</td>\n",
       "      <td>2011-07-02 12:00:00</td>\n",
       "      <td>2.000000</td>\n",
       "      <td>0.000000</td>\n",
       "      <td>4.000000</td>\n",
       "      <td>0.000000</td>\n",
       "      <td>1.000000</td>\n",
       "      <td>0.000000</td>\n",
       "      <td>1.000000</td>\n",
       "      <td>0.337083</td>\n",
       "      <td>0.337842</td>\n",
       "      <td>0.520000</td>\n",
       "      <td>0.134950</td>\n",
       "      <td>315.500000</td>\n",
       "      <td>2497.000000</td>\n",
       "      <td>3152.000000</td>\n",
       "    </tr>\n",
       "    <tr>\n",
       "      <th>50%</th>\n",
       "      <td>366.000000</td>\n",
       "      <td>2012-01-01 00:00:00</td>\n",
       "      <td>3.000000</td>\n",
       "      <td>1.000000</td>\n",
       "      <td>7.000000</td>\n",
       "      <td>0.000000</td>\n",
       "      <td>3.000000</td>\n",
       "      <td>1.000000</td>\n",
       "      <td>1.000000</td>\n",
       "      <td>0.498333</td>\n",
       "      <td>0.486733</td>\n",
       "      <td>0.626667</td>\n",
       "      <td>0.180975</td>\n",
       "      <td>713.000000</td>\n",
       "      <td>3662.000000</td>\n",
       "      <td>4548.000000</td>\n",
       "    </tr>\n",
       "    <tr>\n",
       "      <th>75%</th>\n",
       "      <td>548.500000</td>\n",
       "      <td>2012-07-01 12:00:00</td>\n",
       "      <td>3.000000</td>\n",
       "      <td>1.000000</td>\n",
       "      <td>10.000000</td>\n",
       "      <td>0.000000</td>\n",
       "      <td>5.000000</td>\n",
       "      <td>1.000000</td>\n",
       "      <td>2.000000</td>\n",
       "      <td>0.655417</td>\n",
       "      <td>0.608602</td>\n",
       "      <td>0.730209</td>\n",
       "      <td>0.233214</td>\n",
       "      <td>1096.000000</td>\n",
       "      <td>4776.500000</td>\n",
       "      <td>5956.000000</td>\n",
       "    </tr>\n",
       "    <tr>\n",
       "      <th>max</th>\n",
       "      <td>731.000000</td>\n",
       "      <td>2012-12-31 00:00:00</td>\n",
       "      <td>4.000000</td>\n",
       "      <td>1.000000</td>\n",
       "      <td>12.000000</td>\n",
       "      <td>1.000000</td>\n",
       "      <td>6.000000</td>\n",
       "      <td>1.000000</td>\n",
       "      <td>3.000000</td>\n",
       "      <td>0.861667</td>\n",
       "      <td>0.840896</td>\n",
       "      <td>0.972500</td>\n",
       "      <td>0.507463</td>\n",
       "      <td>3410.000000</td>\n",
       "      <td>6946.000000</td>\n",
       "      <td>8714.000000</td>\n",
       "    </tr>\n",
       "    <tr>\n",
       "      <th>std</th>\n",
       "      <td>211.165812</td>\n",
       "      <td>NaN</td>\n",
       "      <td>1.110807</td>\n",
       "      <td>0.500342</td>\n",
       "      <td>3.451913</td>\n",
       "      <td>0.167155</td>\n",
       "      <td>2.004787</td>\n",
       "      <td>0.465233</td>\n",
       "      <td>0.544894</td>\n",
       "      <td>0.183051</td>\n",
       "      <td>0.162961</td>\n",
       "      <td>0.142429</td>\n",
       "      <td>0.077498</td>\n",
       "      <td>686.622488</td>\n",
       "      <td>1560.256377</td>\n",
       "      <td>1937.211452</td>\n",
       "    </tr>\n",
       "  </tbody>\n",
       "</table>\n",
       "</div>"
      ],
      "text/plain": [
       "          instant               dteday      season          yr        mnth  \\\n",
       "count  731.000000                  731  731.000000  731.000000  731.000000   \n",
       "mean   366.000000  2012-01-01 00:00:00    2.496580    0.500684    6.519836   \n",
       "min      1.000000  2011-01-01 00:00:00    1.000000    0.000000    1.000000   \n",
       "25%    183.500000  2011-07-02 12:00:00    2.000000    0.000000    4.000000   \n",
       "50%    366.000000  2012-01-01 00:00:00    3.000000    1.000000    7.000000   \n",
       "75%    548.500000  2012-07-01 12:00:00    3.000000    1.000000   10.000000   \n",
       "max    731.000000  2012-12-31 00:00:00    4.000000    1.000000   12.000000   \n",
       "std    211.165812                  NaN    1.110807    0.500342    3.451913   \n",
       "\n",
       "          holiday     weekday  workingday  weathersit        temp       atemp  \\\n",
       "count  731.000000  731.000000  731.000000  731.000000  731.000000  731.000000   \n",
       "mean     0.028728    2.997264    0.683995    1.395349    0.495385    0.474354   \n",
       "min      0.000000    0.000000    0.000000    1.000000    0.059130    0.079070   \n",
       "25%      0.000000    1.000000    0.000000    1.000000    0.337083    0.337842   \n",
       "50%      0.000000    3.000000    1.000000    1.000000    0.498333    0.486733   \n",
       "75%      0.000000    5.000000    1.000000    2.000000    0.655417    0.608602   \n",
       "max      1.000000    6.000000    1.000000    3.000000    0.861667    0.840896   \n",
       "std      0.167155    2.004787    0.465233    0.544894    0.183051    0.162961   \n",
       "\n",
       "              hum   windspeed       casual   registered          cnt  \n",
       "count  731.000000  731.000000   731.000000   731.000000   731.000000  \n",
       "mean     0.627894    0.190486   848.176471  3656.172367  4504.348837  \n",
       "min      0.000000    0.022392     2.000000    20.000000    22.000000  \n",
       "25%      0.520000    0.134950   315.500000  2497.000000  3152.000000  \n",
       "50%      0.626667    0.180975   713.000000  3662.000000  4548.000000  \n",
       "75%      0.730209    0.233214  1096.000000  4776.500000  5956.000000  \n",
       "max      0.972500    0.507463  3410.000000  6946.000000  8714.000000  \n",
       "std      0.142429    0.077498   686.622488  1560.256377  1937.211452  "
      ]
     },
     "execution_count": 75,
     "metadata": {},
     "output_type": "execute_result"
    }
   ],
   "source": [
    "day_df.describe(include=\"all\")"
   ]
  },
  {
   "cell_type": "markdown",
   "metadata": {},
   "source": [
    "Melihat statistik penyewaan pada hari libur dan hari kerja"
   ]
  },
  {
   "cell_type": "code",
   "execution_count": 76,
   "metadata": {},
   "outputs": [
    {
     "name": "stdout",
     "output_type": "stream",
     "text": [
      "Statistik Penyewaan pada Hari Libur vs Hari Kerja:\n"
     ]
    },
    {
     "data": {
      "text/html": [
       "<div>\n",
       "<style scoped>\n",
       "    .dataframe tbody tr th:only-of-type {\n",
       "        vertical-align: middle;\n",
       "    }\n",
       "\n",
       "    .dataframe tbody tr th {\n",
       "        vertical-align: top;\n",
       "    }\n",
       "\n",
       "    .dataframe thead tr th {\n",
       "        text-align: left;\n",
       "    }\n",
       "</style>\n",
       "<table border=\"1\" class=\"dataframe\">\n",
       "  <thead>\n",
       "    <tr>\n",
       "      <th></th>\n",
       "      <th colspan=\"4\" halign=\"left\">casual</th>\n",
       "      <th colspan=\"4\" halign=\"left\">registered</th>\n",
       "    </tr>\n",
       "    <tr>\n",
       "      <th></th>\n",
       "      <th>mean</th>\n",
       "      <th>max</th>\n",
       "      <th>min</th>\n",
       "      <th>std</th>\n",
       "      <th>mean</th>\n",
       "      <th>max</th>\n",
       "      <th>min</th>\n",
       "      <th>std</th>\n",
       "    </tr>\n",
       "  </thead>\n",
       "  <tbody>\n",
       "    <tr>\n",
       "      <th>Libur</th>\n",
       "      <td>1371.134199</td>\n",
       "      <td>3410</td>\n",
       "      <td>54</td>\n",
       "      <td>873.064794</td>\n",
       "      <td>2959.034632</td>\n",
       "      <td>5966</td>\n",
       "      <td>451</td>\n",
       "      <td>1293.867686</td>\n",
       "    </tr>\n",
       "    <tr>\n",
       "      <th>Kerja</th>\n",
       "      <td>606.570000</td>\n",
       "      <td>2469</td>\n",
       "      <td>2</td>\n",
       "      <td>391.496032</td>\n",
       "      <td>3978.250000</td>\n",
       "      <td>6946</td>\n",
       "      <td>20</td>\n",
       "      <td>1568.692453</td>\n",
       "    </tr>\n",
       "  </tbody>\n",
       "</table>\n",
       "</div>"
      ],
      "text/plain": [
       "            casual                         registered                        \n",
       "              mean   max min         std         mean   max  min          std\n",
       "Libur  1371.134199  3410  54  873.064794  2959.034632  5966  451  1293.867686\n",
       "Kerja   606.570000  2469   2  391.496032  3978.250000  6946   20  1568.692453"
      ]
     },
     "execution_count": 76,
     "metadata": {},
     "output_type": "execute_result"
    }
   ],
   "source": [
    "workingday_group = day_df.groupby('workingday')[['casual', 'registered']].agg(['mean', 'max', 'min', 'std'])\n",
    "workingday_group.index = ['Libur', 'Kerja']\n",
    "print(\"Statistik Penyewaan pada Hari Libur vs Hari Kerja:\")\n",
    "workingday_group.head()"
   ]
  },
  {
   "cell_type": "markdown",
   "metadata": {},
   "source": [
    "Melihat statistik penyewaaan sepeda per musim"
   ]
  },
  {
   "cell_type": "code",
   "execution_count": 77,
   "metadata": {},
   "outputs": [
    {
     "name": "stdout",
     "output_type": "stream",
     "text": [
      "Statistik Penyewaan Sepeda per Musim:\n"
     ]
    },
    {
     "data": {
      "text/html": [
       "<div>\n",
       "<style scoped>\n",
       "    .dataframe tbody tr th:only-of-type {\n",
       "        vertical-align: middle;\n",
       "    }\n",
       "\n",
       "    .dataframe tbody tr th {\n",
       "        vertical-align: top;\n",
       "    }\n",
       "\n",
       "    .dataframe thead tr th {\n",
       "        text-align: left;\n",
       "    }\n",
       "</style>\n",
       "<table border=\"1\" class=\"dataframe\">\n",
       "  <thead>\n",
       "    <tr>\n",
       "      <th></th>\n",
       "      <th colspan=\"4\" halign=\"left\">casual</th>\n",
       "      <th colspan=\"4\" halign=\"left\">registered</th>\n",
       "    </tr>\n",
       "    <tr>\n",
       "      <th></th>\n",
       "      <th>mean</th>\n",
       "      <th>max</th>\n",
       "      <th>min</th>\n",
       "      <th>std</th>\n",
       "      <th>mean</th>\n",
       "      <th>max</th>\n",
       "      <th>min</th>\n",
       "      <th>std</th>\n",
       "    </tr>\n",
       "  </thead>\n",
       "  <tbody>\n",
       "    <tr>\n",
       "      <th>Spring</th>\n",
       "      <td>334.928177</td>\n",
       "      <td>3155</td>\n",
       "      <td>9</td>\n",
       "      <td>387.655561</td>\n",
       "      <td>2269.204420</td>\n",
       "      <td>5315</td>\n",
       "      <td>416</td>\n",
       "      <td>1200.269751</td>\n",
       "    </tr>\n",
       "    <tr>\n",
       "      <th>Summer</th>\n",
       "      <td>1106.097826</td>\n",
       "      <td>3410</td>\n",
       "      <td>120</td>\n",
       "      <td>737.590829</td>\n",
       "      <td>3886.233696</td>\n",
       "      <td>6456</td>\n",
       "      <td>674</td>\n",
       "      <td>1353.375628</td>\n",
       "    </tr>\n",
       "    <tr>\n",
       "      <th>Fall</th>\n",
       "      <td>1202.611702</td>\n",
       "      <td>3160</td>\n",
       "      <td>118</td>\n",
       "      <td>595.975032</td>\n",
       "      <td>4441.691489</td>\n",
       "      <td>6917</td>\n",
       "      <td>889</td>\n",
       "      <td>1304.626949</td>\n",
       "    </tr>\n",
       "    <tr>\n",
       "      <th>Winter</th>\n",
       "      <td>729.112360</td>\n",
       "      <td>3031</td>\n",
       "      <td>2</td>\n",
       "      <td>606.318118</td>\n",
       "      <td>3999.050562</td>\n",
       "      <td>6946</td>\n",
       "      <td>20</td>\n",
       "      <td>1444.782557</td>\n",
       "    </tr>\n",
       "  </tbody>\n",
       "</table>\n",
       "</div>"
      ],
      "text/plain": [
       "             casual                          registered             \\\n",
       "               mean   max  min         std         mean   max  min   \n",
       "Spring   334.928177  3155    9  387.655561  2269.204420  5315  416   \n",
       "Summer  1106.097826  3410  120  737.590829  3886.233696  6456  674   \n",
       "Fall    1202.611702  3160  118  595.975032  4441.691489  6917  889   \n",
       "Winter   729.112360  3031    2  606.318118  3999.050562  6946   20   \n",
       "\n",
       "                     \n",
       "                std  \n",
       "Spring  1200.269751  \n",
       "Summer  1353.375628  \n",
       "Fall    1304.626949  \n",
       "Winter  1444.782557  "
      ]
     },
     "execution_count": 77,
     "metadata": {},
     "output_type": "execute_result"
    }
   ],
   "source": [
    "season_group = day_df.groupby('season')[['casual', 'registered']].agg(['mean', 'max', 'min', 'std'])\n",
    "season_group.index = ['Spring', 'Summer', 'Fall', 'Winter']  \n",
    "print(\"Statistik Penyewaan Sepeda per Musim:\")\n",
    "season_group.head()"
   ]
  },
  {
   "cell_type": "markdown",
   "metadata": {},
   "source": [
    "Mencari informasi total jumlah penyewa kasual dan penyewa terdaftar"
   ]
  },
  {
   "cell_type": "code",
   "execution_count": 78,
   "metadata": {},
   "outputs": [
    {
     "name": "stdout",
     "output_type": "stream",
     "text": [
      "Proporsi Total Penyewaan:\n",
      "{'Casual': np.int64(620017), 'Registered': np.int64(2672662)}\n"
     ]
    }
   ],
   "source": [
    "total_casual = day_df['casual'].sum()\n",
    "total_registered = day_df['registered'].sum()\n",
    "proportion_group = {'Casual': total_casual, 'Registered': total_registered}\n",
    "print(\"Proporsi Total Penyewaan:\")\n",
    "print(proportion_group)"
   ]
  },
  {
   "cell_type": "markdown",
   "metadata": {},
   "source": [
    "Melihat informasi tren penyewaan sepeda berdasarkan bulan"
   ]
  },
  {
   "cell_type": "code",
   "execution_count": 79,
   "metadata": {},
   "outputs": [
    {
     "name": "stdout",
     "output_type": "stream",
     "text": [
      "Statistik Penyewaan Sepeda per Bulan:\n"
     ]
    },
    {
     "data": {
      "text/html": [
       "<div>\n",
       "<style scoped>\n",
       "    .dataframe tbody tr th:only-of-type {\n",
       "        vertical-align: middle;\n",
       "    }\n",
       "\n",
       "    .dataframe tbody tr th {\n",
       "        vertical-align: top;\n",
       "    }\n",
       "\n",
       "    .dataframe thead tr th {\n",
       "        text-align: left;\n",
       "    }\n",
       "\n",
       "    .dataframe thead tr:last-of-type th {\n",
       "        text-align: right;\n",
       "    }\n",
       "</style>\n",
       "<table border=\"1\" class=\"dataframe\">\n",
       "  <thead>\n",
       "    <tr>\n",
       "      <th></th>\n",
       "      <th colspan=\"4\" halign=\"left\">casual</th>\n",
       "      <th colspan=\"4\" halign=\"left\">registered</th>\n",
       "      <th colspan=\"4\" halign=\"left\">cnt</th>\n",
       "    </tr>\n",
       "    <tr>\n",
       "      <th></th>\n",
       "      <th>mean</th>\n",
       "      <th>max</th>\n",
       "      <th>min</th>\n",
       "      <th>std</th>\n",
       "      <th>mean</th>\n",
       "      <th>max</th>\n",
       "      <th>min</th>\n",
       "      <th>std</th>\n",
       "      <th>mean</th>\n",
       "      <th>max</th>\n",
       "      <th>min</th>\n",
       "      <th>std</th>\n",
       "    </tr>\n",
       "    <tr>\n",
       "      <th>mnth</th>\n",
       "      <th></th>\n",
       "      <th></th>\n",
       "      <th></th>\n",
       "      <th></th>\n",
       "      <th></th>\n",
       "      <th></th>\n",
       "      <th></th>\n",
       "      <th></th>\n",
       "      <th></th>\n",
       "      <th></th>\n",
       "      <th></th>\n",
       "      <th></th>\n",
       "    </tr>\n",
       "  </thead>\n",
       "  <tbody>\n",
       "    <tr>\n",
       "      <th>1</th>\n",
       "      <td>194.225806</td>\n",
       "      <td>1070</td>\n",
       "      <td>9</td>\n",
       "      <td>197.384490</td>\n",
       "      <td>1982.112903</td>\n",
       "      <td>4185</td>\n",
       "      <td>416</td>\n",
       "      <td>1053.274474</td>\n",
       "      <td>2176.338710</td>\n",
       "      <td>4521</td>\n",
       "      <td>431</td>\n",
       "      <td>1161.674370</td>\n",
       "    </tr>\n",
       "    <tr>\n",
       "      <th>2</th>\n",
       "      <td>262.508772</td>\n",
       "      <td>1435</td>\n",
       "      <td>47</td>\n",
       "      <td>232.283549</td>\n",
       "      <td>2392.789474</td>\n",
       "      <td>4546</td>\n",
       "      <td>905</td>\n",
       "      <td>1091.126003</td>\n",
       "      <td>2655.298246</td>\n",
       "      <td>5062</td>\n",
       "      <td>1005</td>\n",
       "      <td>1145.313307</td>\n",
       "    </tr>\n",
       "    <tr>\n",
       "      <th>3</th>\n",
       "      <td>716.838710</td>\n",
       "      <td>3155</td>\n",
       "      <td>46</td>\n",
       "      <td>624.308094</td>\n",
       "      <td>2975.419355</td>\n",
       "      <td>5893</td>\n",
       "      <td>491</td>\n",
       "      <td>1513.254354</td>\n",
       "      <td>3692.258065</td>\n",
       "      <td>8362</td>\n",
       "      <td>605</td>\n",
       "      <td>1899.301812</td>\n",
       "    </tr>\n",
       "    <tr>\n",
       "      <th>4</th>\n",
       "      <td>1013.366667</td>\n",
       "      <td>3252</td>\n",
       "      <td>120</td>\n",
       "      <td>738.345585</td>\n",
       "      <td>3471.533333</td>\n",
       "      <td>5950</td>\n",
       "      <td>674</td>\n",
       "      <td>1414.571151</td>\n",
       "      <td>4484.900000</td>\n",
       "      <td>7460</td>\n",
       "      <td>795</td>\n",
       "      <td>1776.160778</td>\n",
       "    </tr>\n",
       "    <tr>\n",
       "      <th>5</th>\n",
       "      <td>1214.274194</td>\n",
       "      <td>3410</td>\n",
       "      <td>255</td>\n",
       "      <td>754.950311</td>\n",
       "      <td>4135.500000</td>\n",
       "      <td>6433</td>\n",
       "      <td>2213</td>\n",
       "      <td>1093.179612</td>\n",
       "      <td>5349.774194</td>\n",
       "      <td>8294</td>\n",
       "      <td>2633</td>\n",
       "      <td>1298.711561</td>\n",
       "    </tr>\n",
       "  </tbody>\n",
       "</table>\n",
       "</div>"
      ],
      "text/plain": [
       "           casual                          registered              \\\n",
       "             mean   max  min         std         mean   max   min   \n",
       "mnth                                                                \n",
       "1      194.225806  1070    9  197.384490  1982.112903  4185   416   \n",
       "2      262.508772  1435   47  232.283549  2392.789474  4546   905   \n",
       "3      716.838710  3155   46  624.308094  2975.419355  5893   491   \n",
       "4     1013.366667  3252  120  738.345585  3471.533333  5950   674   \n",
       "5     1214.274194  3410  255  754.950311  4135.500000  6433  2213   \n",
       "\n",
       "                           cnt                           \n",
       "              std         mean   max   min          std  \n",
       "mnth                                                     \n",
       "1     1053.274474  2176.338710  4521   431  1161.674370  \n",
       "2     1091.126003  2655.298246  5062  1005  1145.313307  \n",
       "3     1513.254354  3692.258065  8362   605  1899.301812  \n",
       "4     1414.571151  4484.900000  7460   795  1776.160778  \n",
       "5     1093.179612  5349.774194  8294  2633  1298.711561  "
      ]
     },
     "execution_count": 79,
     "metadata": {},
     "output_type": "execute_result"
    }
   ],
   "source": [
    "monthly_group = day_df.groupby('mnth')[['casual', 'registered', 'cnt']].agg(['mean', 'max', 'min', 'std'])\n",
    "print(\"Statistik Penyewaan Sepeda per Bulan:\")\n",
    "monthly_group.head()"
   ]
  },
  {
   "cell_type": "markdown",
   "metadata": {},
   "source": [
    "Melihat informasi dari Top 5 dari bulan dengan penyewaan sepeda tertinggi dari masing-masing penyewa casual dan terdaftar"
   ]
  },
  {
   "cell_type": "code",
   "execution_count": 80,
   "metadata": {},
   "outputs": [
    {
     "name": "stdout",
     "output_type": "stream",
     "text": [
      "\n",
      "Top 5 Bulan dengan Penyewaan Kasual Tertinggi:\n",
      "mnth\n",
      "7    78157\n",
      "5    75285\n",
      "6    73906\n",
      "8    72039\n",
      "9    70323\n",
      "Name: casual, dtype: int64\n",
      "\n",
      "Top 5 Bulan dengan Penyewaan Terdaftar Tertinggi:\n",
      "mnth\n",
      "8     279155\n",
      "9     275668\n",
      "6     272436\n",
      "7     266791\n",
      "10    262592\n",
      "Name: registered, dtype: int64\n"
     ]
    }
   ],
   "source": [
    "top5_casual = day_df.groupby('mnth')['casual'].sum().sort_values(ascending=False).head(5)\n",
    "top5_registered = day_df.groupby('mnth')['registered'].sum().sort_values(ascending=False).head(5)\n",
    "\n",
    "print(\"\\nTop 5 Bulan dengan Penyewaan Kasual Tertinggi:\")\n",
    "print(top5_casual)\n",
    "\n",
    "print(\"\\nTop 5 Bulan dengan Penyewaan Terdaftar Tertinggi:\")\n",
    "print(top5_registered)"
   ]
  },
  {
   "cell_type": "markdown",
   "metadata": {},
   "source": [
    "Melihat informasi statistik penyewaan sepeda berdasarkan Tahun"
   ]
  },
  {
   "cell_type": "code",
   "execution_count": 81,
   "metadata": {},
   "outputs": [
    {
     "name": "stdout",
     "output_type": "stream",
     "text": [
      "Rata-rata Penyewaan Sepeda per Tahun:\n"
     ]
    },
    {
     "data": {
      "text/html": [
       "<div>\n",
       "<style scoped>\n",
       "    .dataframe tbody tr th:only-of-type {\n",
       "        vertical-align: middle;\n",
       "    }\n",
       "\n",
       "    .dataframe tbody tr th {\n",
       "        vertical-align: top;\n",
       "    }\n",
       "\n",
       "    .dataframe thead tr th {\n",
       "        text-align: left;\n",
       "    }\n",
       "</style>\n",
       "<table border=\"1\" class=\"dataframe\">\n",
       "  <thead>\n",
       "    <tr>\n",
       "      <th></th>\n",
       "      <th colspan=\"4\" halign=\"left\">cnt</th>\n",
       "    </tr>\n",
       "    <tr>\n",
       "      <th></th>\n",
       "      <th>mean</th>\n",
       "      <th>max</th>\n",
       "      <th>min</th>\n",
       "      <th>std</th>\n",
       "    </tr>\n",
       "  </thead>\n",
       "  <tbody>\n",
       "    <tr>\n",
       "      <th>2011</th>\n",
       "      <td>3405.761644</td>\n",
       "      <td>6043</td>\n",
       "      <td>431</td>\n",
       "      <td>1378.753666</td>\n",
       "    </tr>\n",
       "    <tr>\n",
       "      <th>2012</th>\n",
       "      <td>5599.934426</td>\n",
       "      <td>8714</td>\n",
       "      <td>22</td>\n",
       "      <td>1788.667868</td>\n",
       "    </tr>\n",
       "  </tbody>\n",
       "</table>\n",
       "</div>"
      ],
      "text/plain": [
       "              cnt                        \n",
       "             mean   max  min          std\n",
       "2011  3405.761644  6043  431  1378.753666\n",
       "2012  5599.934426  8714   22  1788.667868"
      ]
     },
     "execution_count": 81,
     "metadata": {},
     "output_type": "execute_result"
    }
   ],
   "source": [
    "yearly_group = day_df.groupby('yr')[['cnt']].agg(['mean', 'max', 'min', 'std'])\n",
    "yearly_group.index = ['2011', '2012']  \n",
    "print(\"Rata-rata Penyewaan Sepeda per Tahun:\")\n",
    "yearly_group.head()"
   ]
  },
  {
   "cell_type": "markdown",
   "metadata": {},
   "source": [
    "Melihat informasi statistik penyewaan sepeda berdasarkan kondisi cuaca"
   ]
  },
  {
   "cell_type": "code",
   "execution_count": 82,
   "metadata": {},
   "outputs": [
    {
     "name": "stdout",
     "output_type": "stream",
     "text": [
      "Statistik Penyewaan Berdasarkan Kondisi Cuaca:\n"
     ]
    },
    {
     "data": {
      "text/html": [
       "<div>\n",
       "<style scoped>\n",
       "    .dataframe tbody tr th:only-of-type {\n",
       "        vertical-align: middle;\n",
       "    }\n",
       "\n",
       "    .dataframe tbody tr th {\n",
       "        vertical-align: top;\n",
       "    }\n",
       "\n",
       "    .dataframe thead tr th {\n",
       "        text-align: left;\n",
       "    }\n",
       "</style>\n",
       "<table border=\"1\" class=\"dataframe\">\n",
       "  <thead>\n",
       "    <tr>\n",
       "      <th></th>\n",
       "      <th colspan=\"4\" halign=\"left\">cnt</th>\n",
       "    </tr>\n",
       "    <tr>\n",
       "      <th></th>\n",
       "      <th>mean</th>\n",
       "      <th>max</th>\n",
       "      <th>min</th>\n",
       "      <th>std</th>\n",
       "    </tr>\n",
       "  </thead>\n",
       "  <tbody>\n",
       "    <tr>\n",
       "      <th>Clear</th>\n",
       "      <td>204.869272</td>\n",
       "      <td>977</td>\n",
       "      <td>1</td>\n",
       "      <td>189.487773</td>\n",
       "    </tr>\n",
       "    <tr>\n",
       "      <th>Mist</th>\n",
       "      <td>175.165493</td>\n",
       "      <td>957</td>\n",
       "      <td>1</td>\n",
       "      <td>165.431589</td>\n",
       "    </tr>\n",
       "    <tr>\n",
       "      <th>Light Rain</th>\n",
       "      <td>111.579281</td>\n",
       "      <td>891</td>\n",
       "      <td>1</td>\n",
       "      <td>133.781045</td>\n",
       "    </tr>\n",
       "    <tr>\n",
       "      <th>Heavy Rain</th>\n",
       "      <td>74.333333</td>\n",
       "      <td>164</td>\n",
       "      <td>23</td>\n",
       "      <td>77.925178</td>\n",
       "    </tr>\n",
       "  </tbody>\n",
       "</table>\n",
       "</div>"
      ],
      "text/plain": [
       "                   cnt                     \n",
       "                  mean  max min         std\n",
       "Clear       204.869272  977   1  189.487773\n",
       "Mist        175.165493  957   1  165.431589\n",
       "Light Rain  111.579281  891   1  133.781045\n",
       "Heavy Rain   74.333333  164  23   77.925178"
      ]
     },
     "execution_count": 82,
     "metadata": {},
     "output_type": "execute_result"
    }
   ],
   "source": [
    "weather_group = hour_df.groupby('weathersit')[['cnt']].agg(['mean', 'max', 'min', 'std'])\n",
    "weather_group.index = ['Clear', 'Mist', 'Light Rain', 'Heavy Rain']\n",
    "print(\"Statistik Penyewaan Berdasarkan Kondisi Cuaca:\")\n",
    "weather_group.head()"
   ]
  },
  {
   "cell_type": "markdown",
   "metadata": {},
   "source": [
    "#### Explorasi data `hour_df`"
   ]
  },
  {
   "cell_type": "markdown",
   "metadata": {},
   "source": [
    "Melihat informasi penyewa kasual dan terdaftar apakah memiliki waktu favorit yang berbeda dalam satu hari"
   ]
  },
  {
   "cell_type": "code",
   "execution_count": 83,
   "metadata": {},
   "outputs": [
    {
     "name": "stdout",
     "output_type": "stream",
     "text": [
      "Statistik Penyewaan Sepeda per Jam:\n"
     ]
    },
    {
     "data": {
      "text/html": [
       "<div>\n",
       "<style scoped>\n",
       "    .dataframe tbody tr th:only-of-type {\n",
       "        vertical-align: middle;\n",
       "    }\n",
       "\n",
       "    .dataframe tbody tr th {\n",
       "        vertical-align: top;\n",
       "    }\n",
       "\n",
       "    .dataframe thead tr th {\n",
       "        text-align: left;\n",
       "    }\n",
       "\n",
       "    .dataframe thead tr:last-of-type th {\n",
       "        text-align: right;\n",
       "    }\n",
       "</style>\n",
       "<table border=\"1\" class=\"dataframe\">\n",
       "  <thead>\n",
       "    <tr>\n",
       "      <th></th>\n",
       "      <th colspan=\"4\" halign=\"left\">casual</th>\n",
       "      <th colspan=\"4\" halign=\"left\">registered</th>\n",
       "    </tr>\n",
       "    <tr>\n",
       "      <th></th>\n",
       "      <th>mean</th>\n",
       "      <th>max</th>\n",
       "      <th>min</th>\n",
       "      <th>std</th>\n",
       "      <th>mean</th>\n",
       "      <th>max</th>\n",
       "      <th>min</th>\n",
       "      <th>std</th>\n",
       "    </tr>\n",
       "    <tr>\n",
       "      <th>hr</th>\n",
       "      <th></th>\n",
       "      <th></th>\n",
       "      <th></th>\n",
       "      <th></th>\n",
       "      <th></th>\n",
       "      <th></th>\n",
       "      <th></th>\n",
       "      <th></th>\n",
       "    </tr>\n",
       "  </thead>\n",
       "  <tbody>\n",
       "    <tr>\n",
       "      <th>0</th>\n",
       "      <td>10.158402</td>\n",
       "      <td>68</td>\n",
       "      <td>0</td>\n",
       "      <td>10.667953</td>\n",
       "      <td>43.739669</td>\n",
       "      <td>234</td>\n",
       "      <td>0</td>\n",
       "      <td>34.019585</td>\n",
       "    </tr>\n",
       "    <tr>\n",
       "      <th>1</th>\n",
       "      <td>6.504144</td>\n",
       "      <td>49</td>\n",
       "      <td>0</td>\n",
       "      <td>7.735334</td>\n",
       "      <td>26.871547</td>\n",
       "      <td>139</td>\n",
       "      <td>0</td>\n",
       "      <td>27.344153</td>\n",
       "    </tr>\n",
       "    <tr>\n",
       "      <th>2</th>\n",
       "      <td>4.772028</td>\n",
       "      <td>44</td>\n",
       "      <td>0</td>\n",
       "      <td>6.514780</td>\n",
       "      <td>18.097902</td>\n",
       "      <td>104</td>\n",
       "      <td>0</td>\n",
       "      <td>21.303895</td>\n",
       "    </tr>\n",
       "    <tr>\n",
       "      <th>3</th>\n",
       "      <td>2.715925</td>\n",
       "      <td>26</td>\n",
       "      <td>0</td>\n",
       "      <td>4.315795</td>\n",
       "      <td>9.011478</td>\n",
       "      <td>61</td>\n",
       "      <td>0</td>\n",
       "      <td>9.743691</td>\n",
       "    </tr>\n",
       "    <tr>\n",
       "      <th>4</th>\n",
       "      <td>1.253945</td>\n",
       "      <td>13</td>\n",
       "      <td>0</td>\n",
       "      <td>1.887669</td>\n",
       "      <td>5.098996</td>\n",
       "      <td>22</td>\n",
       "      <td>0</td>\n",
       "      <td>3.134479</td>\n",
       "    </tr>\n",
       "    <tr>\n",
       "      <th>5</th>\n",
       "      <td>1.411437</td>\n",
       "      <td>16</td>\n",
       "      <td>0</td>\n",
       "      <td>1.790581</td>\n",
       "      <td>18.478382</td>\n",
       "      <td>64</td>\n",
       "      <td>0</td>\n",
       "      <td>12.674751</td>\n",
       "    </tr>\n",
       "    <tr>\n",
       "      <th>6</th>\n",
       "      <td>4.161379</td>\n",
       "      <td>19</td>\n",
       "      <td>0</td>\n",
       "      <td>3.691509</td>\n",
       "      <td>71.882759</td>\n",
       "      <td>203</td>\n",
       "      <td>0</td>\n",
       "      <td>53.535307</td>\n",
       "    </tr>\n",
       "    <tr>\n",
       "      <th>7</th>\n",
       "      <td>11.055021</td>\n",
       "      <td>40</td>\n",
       "      <td>0</td>\n",
       "      <td>8.356205</td>\n",
       "      <td>201.009629</td>\n",
       "      <td>572</td>\n",
       "      <td>1</td>\n",
       "      <td>157.120459</td>\n",
       "    </tr>\n",
       "    <tr>\n",
       "      <th>8</th>\n",
       "      <td>21.679505</td>\n",
       "      <td>69</td>\n",
       "      <td>0</td>\n",
       "      <td>13.741229</td>\n",
       "      <td>337.331499</td>\n",
       "      <td>808</td>\n",
       "      <td>4</td>\n",
       "      <td>229.698404</td>\n",
       "    </tr>\n",
       "    <tr>\n",
       "      <th>9</th>\n",
       "      <td>30.891334</td>\n",
       "      <td>142</td>\n",
       "      <td>0</td>\n",
       "      <td>24.472856</td>\n",
       "      <td>188.418157</td>\n",
       "      <td>399</td>\n",
       "      <td>6</td>\n",
       "      <td>84.633490</td>\n",
       "    </tr>\n",
       "    <tr>\n",
       "      <th>10</th>\n",
       "      <td>46.477304</td>\n",
       "      <td>209</td>\n",
       "      <td>0</td>\n",
       "      <td>41.346206</td>\n",
       "      <td>127.191197</td>\n",
       "      <td>351</td>\n",
       "      <td>8</td>\n",
       "      <td>66.281668</td>\n",
       "    </tr>\n",
       "    <tr>\n",
       "      <th>11</th>\n",
       "      <td>59.540578</td>\n",
       "      <td>268</td>\n",
       "      <td>0</td>\n",
       "      <td>54.481788</td>\n",
       "      <td>148.602476</td>\n",
       "      <td>446</td>\n",
       "      <td>5</td>\n",
       "      <td>79.090301</td>\n",
       "    </tr>\n",
       "    <tr>\n",
       "      <th>12</th>\n",
       "      <td>68.293956</td>\n",
       "      <td>362</td>\n",
       "      <td>0</td>\n",
       "      <td>64.394237</td>\n",
       "      <td>185.021978</td>\n",
       "      <td>526</td>\n",
       "      <td>3</td>\n",
       "      <td>89.240873</td>\n",
       "    </tr>\n",
       "    <tr>\n",
       "      <th>13</th>\n",
       "      <td>72.308642</td>\n",
       "      <td>355</td>\n",
       "      <td>0</td>\n",
       "      <td>69.819228</td>\n",
       "      <td>181.352538</td>\n",
       "      <td>491</td>\n",
       "      <td>9</td>\n",
       "      <td>87.424775</td>\n",
       "    </tr>\n",
       "    <tr>\n",
       "      <th>14</th>\n",
       "      <td>75.567901</td>\n",
       "      <td>361</td>\n",
       "      <td>0</td>\n",
       "      <td>71.599225</td>\n",
       "      <td>165.381344</td>\n",
       "      <td>502</td>\n",
       "      <td>12</td>\n",
       "      <td>84.055205</td>\n",
       "    </tr>\n",
       "    <tr>\n",
       "      <th>15</th>\n",
       "      <td>74.905350</td>\n",
       "      <td>357</td>\n",
       "      <td>0</td>\n",
       "      <td>70.289359</td>\n",
       "      <td>176.327846</td>\n",
       "      <td>456</td>\n",
       "      <td>4</td>\n",
       "      <td>84.488219</td>\n",
       "    </tr>\n",
       "    <tr>\n",
       "      <th>16</th>\n",
       "      <td>73.745205</td>\n",
       "      <td>367</td>\n",
       "      <td>0</td>\n",
       "      <td>67.015206</td>\n",
       "      <td>238.238356</td>\n",
       "      <td>481</td>\n",
       "      <td>8</td>\n",
       "      <td>103.765726</td>\n",
       "    </tr>\n",
       "    <tr>\n",
       "      <th>17</th>\n",
       "      <td>74.273973</td>\n",
       "      <td>347</td>\n",
       "      <td>0</td>\n",
       "      <td>61.491021</td>\n",
       "      <td>387.178082</td>\n",
       "      <td>885</td>\n",
       "      <td>14</td>\n",
       "      <td>211.676303</td>\n",
       "    </tr>\n",
       "    <tr>\n",
       "      <th>18</th>\n",
       "      <td>61.120879</td>\n",
       "      <td>266</td>\n",
       "      <td>0</td>\n",
       "      <td>50.981553</td>\n",
       "      <td>364.390110</td>\n",
       "      <td>886</td>\n",
       "      <td>20</td>\n",
       "      <td>203.599896</td>\n",
       "    </tr>\n",
       "    <tr>\n",
       "      <th>19</th>\n",
       "      <td>48.770604</td>\n",
       "      <td>230</td>\n",
       "      <td>0</td>\n",
       "      <td>42.328913</td>\n",
       "      <td>262.752747</td>\n",
       "      <td>662</td>\n",
       "      <td>11</td>\n",
       "      <td>138.708622</td>\n",
       "    </tr>\n",
       "    <tr>\n",
       "      <th>20</th>\n",
       "      <td>36.233516</td>\n",
       "      <td>237</td>\n",
       "      <td>0</td>\n",
       "      <td>32.103347</td>\n",
       "      <td>189.796703</td>\n",
       "      <td>461</td>\n",
       "      <td>8</td>\n",
       "      <td>100.293791</td>\n",
       "    </tr>\n",
       "    <tr>\n",
       "      <th>21</th>\n",
       "      <td>28.255495</td>\n",
       "      <td>222</td>\n",
       "      <td>0</td>\n",
       "      <td>25.378252</td>\n",
       "      <td>144.059066</td>\n",
       "      <td>362</td>\n",
       "      <td>6</td>\n",
       "      <td>73.149848</td>\n",
       "    </tr>\n",
       "    <tr>\n",
       "      <th>22</th>\n",
       "      <td>22.252747</td>\n",
       "      <td>175</td>\n",
       "      <td>0</td>\n",
       "      <td>20.450211</td>\n",
       "      <td>109.082418</td>\n",
       "      <td>327</td>\n",
       "      <td>5</td>\n",
       "      <td>55.252765</td>\n",
       "    </tr>\n",
       "    <tr>\n",
       "      <th>23</th>\n",
       "      <td>15.199176</td>\n",
       "      <td>71</td>\n",
       "      <td>0</td>\n",
       "      <td>13.804596</td>\n",
       "      <td>72.631868</td>\n",
       "      <td>220</td>\n",
       "      <td>2</td>\n",
       "      <td>40.446431</td>\n",
       "    </tr>\n",
       "  </tbody>\n",
       "</table>\n",
       "</div>"
      ],
      "text/plain": [
       "       casual                      registered                     \n",
       "         mean  max min        std        mean  max min         std\n",
       "hr                                                                \n",
       "0   10.158402   68   0  10.667953   43.739669  234   0   34.019585\n",
       "1    6.504144   49   0   7.735334   26.871547  139   0   27.344153\n",
       "2    4.772028   44   0   6.514780   18.097902  104   0   21.303895\n",
       "3    2.715925   26   0   4.315795    9.011478   61   0    9.743691\n",
       "4    1.253945   13   0   1.887669    5.098996   22   0    3.134479\n",
       "5    1.411437   16   0   1.790581   18.478382   64   0   12.674751\n",
       "6    4.161379   19   0   3.691509   71.882759  203   0   53.535307\n",
       "7   11.055021   40   0   8.356205  201.009629  572   1  157.120459\n",
       "8   21.679505   69   0  13.741229  337.331499  808   4  229.698404\n",
       "9   30.891334  142   0  24.472856  188.418157  399   6   84.633490\n",
       "10  46.477304  209   0  41.346206  127.191197  351   8   66.281668\n",
       "11  59.540578  268   0  54.481788  148.602476  446   5   79.090301\n",
       "12  68.293956  362   0  64.394237  185.021978  526   3   89.240873\n",
       "13  72.308642  355   0  69.819228  181.352538  491   9   87.424775\n",
       "14  75.567901  361   0  71.599225  165.381344  502  12   84.055205\n",
       "15  74.905350  357   0  70.289359  176.327846  456   4   84.488219\n",
       "16  73.745205  367   0  67.015206  238.238356  481   8  103.765726\n",
       "17  74.273973  347   0  61.491021  387.178082  885  14  211.676303\n",
       "18  61.120879  266   0  50.981553  364.390110  886  20  203.599896\n",
       "19  48.770604  230   0  42.328913  262.752747  662  11  138.708622\n",
       "20  36.233516  237   0  32.103347  189.796703  461   8  100.293791\n",
       "21  28.255495  222   0  25.378252  144.059066  362   6   73.149848\n",
       "22  22.252747  175   0  20.450211  109.082418  327   5   55.252765\n",
       "23  15.199176   71   0  13.804596   72.631868  220   2   40.446431"
      ]
     },
     "execution_count": 83,
     "metadata": {},
     "output_type": "execute_result"
    }
   ],
   "source": [
    "hourly_group = hour_df.groupby('hr')[['casual', 'registered']].agg(['mean', 'max', 'min', 'std'])\n",
    "print(\"Statistik Penyewaan Sepeda per Jam:\")\n",
    "hourly_group.head(24)"
   ]
  },
  {
   "cell_type": "markdown",
   "metadata": {},
   "source": [
    "Melihat informasi top 5 waktu (jam) favorit dari penyewa kasual dan penyewa terdaftar dalam satu hari "
   ]
  },
  {
   "cell_type": "code",
   "execution_count": 84,
   "metadata": {},
   "outputs": [
    {
     "name": "stdout",
     "output_type": "stream",
     "text": [
      "Top 5 Jam dengan Rata-rata Penyewaan Tertinggi untuk Penyewa Kasual:\n",
      "hr\n",
      "14    75.567901\n",
      "15    74.905350\n",
      "17    74.273973\n",
      "16    73.745205\n",
      "13    72.308642\n",
      "Name: mean, dtype: float64\n",
      "\n",
      "Top 5 Jam dengan Rata-rata Penyewaan Tertinggi untuk Penyewa Terdaftar:\n",
      "hr\n",
      "17    387.178082\n",
      "18    364.390110\n",
      "8     337.331499\n",
      "19    262.752747\n",
      "16    238.238356\n",
      "Name: mean, dtype: float64\n"
     ]
    }
   ],
   "source": [
    "# Penyewa Casual\n",
    "top_5_casual = hourly_group['casual']['mean'].sort_values(ascending=False).head(5)\n",
    "print(\"Top 5 Jam dengan Rata-rata Penyewaan Tertinggi untuk Penyewa Kasual:\")\n",
    "print(top_5_casual)\n",
    "\n",
    "# Penyewa Terdaftar\n",
    "top_5_registered = hourly_group['registered']['mean'].sort_values(ascending=False).head(5)\n",
    "print(\"\\nTop 5 Jam dengan Rata-rata Penyewaan Tertinggi untuk Penyewa Terdaftar:\")\n",
    "print(top_5_registered)"
   ]
  },
  {
   "cell_type": "markdown",
   "metadata": {
    "id": "th_Lzl2Fkj9O"
   },
   "source": [
    "### Insight\n",
    "\n",
    "1. **Penyewaan pada Hari Kerja vs Hari Libur**\n",
    "   - Penyewa **terdaftar** lebih banyak menyewa sepeda pada **hari kerja** dibandingkan hari libur.\n",
    "   - Sebaliknya, penyewa **kasual** lebih banyak menyewa sepeda pada **hari libur** dibandingkan hari kerja.\n",
    "\n",
    "2. **Penyewaan Berdasarkan Musim**\n",
    "   - Baik penyewa kasual maupun terdaftar, penyewaan sepeda tertinggi terjadi pada musim **Fall (musim gugur)**.\n",
    "\n",
    "3. **Total Penyewaan Berdasarkan Jenis Penyewa**\n",
    "   - Terdapat informasi mengenai total penyewaan antara penyewa **kasual** dan **terdaftar**. Penyewa terdaftar memiliki jumlah penyewaan yang lebih tinggi dibandingkan penyewa kasual.\n",
    "\n",
    "4. **Penyewaan Tertinggi Berdasarkan Bulan**\n",
    "   - Bulan **Juli (7)** merupakan bulan dengan total penyewaan tertinggi untuk penyewa kasual.\n",
    "   - Bulan **Agustus (8)** menjadi bulan dengan total penyewaan tertinggi untuk penyewa terdaftar.\n",
    "\n",
    "5. **Penyewaan Berdasarkan Tahun**\n",
    "   - Pada tahun **2012**, jumlah penyewaan sepeda lebih tinggi dibandingkan tahun **2011** untuk semua jenis penyewa.\n",
    "\n",
    "6. **Penyewaan Berdasarkan Kondisi Cuaca**\n",
    "   - Cuaca **Clear (cerah)** merupakan kondisi cuaca dengan jumlah penyewaan tertinggi dibandingkan kondisi cuaca lainnya.\n",
    "\n",
    "7. **Waktu Favorit Penyewaan Berdasarkan Jenis Penyewa**\n",
    "   - Penyewa **kasual** paling banyak menyewa sepeda pada jam **14:00 (siang)**.\n",
    "   - Penyewa **terdaftar** paling banyak menyewa sepeda pada jam **17:00 (sore)**."
   ]
  },
  {
   "cell_type": "markdown",
   "metadata": {
    "id": "zsyZjqak8DC2"
   },
   "source": [
    "## Visualization & Explanatory Analysis"
   ]
  },
  {
   "cell_type": "markdown",
   "metadata": {
    "id": "HZxOiQ6n8DC2"
   },
   "source": [
    "### Pertanyaan 1:"
   ]
  },
  {
   "cell_type": "markdown",
   "metadata": {},
   "source": [
    "**Bagaimana tren penyewaan sepeda pada hari libur dibandingkan dengan hari biasa?**"
   ]
  },
  {
   "cell_type": "code",
   "execution_count": 85,
   "metadata": {
    "id": "1swJUdAD8DC2"
   },
   "outputs": [
    {
     "data": {
      "image/png": "[encoded data removed]",
      "text/plain": [
       "<Figure size 800x600 with 1 Axes>"
      ]
     },
     "metadata": {},
     "output_type": "display_data"
    }
   ],
   "source": [
    "workingday_trend = day_df.groupby('workingday')[['casual', 'registered']].mean()\n",
    "workingday_trend.index = ['Libur', 'Kerja']\n",
    "\n",
    "workingday_trend.plot(kind='bar', figsize=(8, 6), title='Penyewaan Sepeda: Hari Libur vs Hari Kerja', color=['#FFA07A', '#87CEEB'])\n",
    "plt.xlabel('Jenis Hari')\n",
    "plt.ylabel('Rata-rata Penyewaan')\n",
    "plt.xticks(rotation=0)\n",
    "plt.legend(['Kasual', 'Terdaftar'])\n",
    "plt.tight_layout()\n",
    "plt.show()"
   ]
  },
  {
   "cell_type": "markdown",
   "metadata": {
    "id": "DgHI7CiU8DC2"
   },
   "source": [
    "### Pertanyaan 2:"
   ]
  },
  {
   "cell_type": "markdown",
   "metadata": {},
   "source": [
    "**Musim apa yang paling diminati oleh penyewa kasual dibandingkan dengan penyewa terdaftar?**"
   ]
  },
  {
   "cell_type": "code",
   "execution_count": 86,
   "metadata": {
    "id": "Go0lCsvO8DC2"
   },
   "outputs": [
    {
     "data": {
      "image/png": "[encoded data removed]",
      "text/plain": [
       "<Figure size 800x600 with 1 Axes>"
      ]
     },
     "metadata": {},
     "output_type": "display_data"
    }
   ],
   "source": [
    "season_trend = day_df.groupby('season')[['casual', 'registered']].mean()\n",
    "season_trend.index = ['Spring', 'Summer', 'Fall', 'Winter']\n",
    "\n",
    "\n",
    "season_trend.plot(kind='bar', figsize=(8, 6), title='Penyewaan Sepeda Berdasarkan Musim', color=['#FFB6C1', '#4682B4'])\n",
    "plt.xlabel('Musim')\n",
    "plt.ylabel('Rata-rata Penyewaan')\n",
    "plt.xticks(rotation=0)\n",
    "plt.legend(['Kasual', 'Terdaftar'])\n",
    "plt.tight_layout()\n",
    "plt.show()"
   ]
  },
  {
   "cell_type": "markdown",
   "metadata": {},
   "source": [
    "### Pertanyaan 3:"
   ]
  },
  {
   "cell_type": "markdown",
   "metadata": {},
   "source": [
    "**Apakah penyewa kasual dan terdaftar memiliki waktu favorit yang berbeda dalam satu hari?**"
   ]
  },
  {
   "cell_type": "code",
   "execution_count": 87,
   "metadata": {},
   "outputs": [
    {
     "data": {
      "image/png": "[encoded data removed]",
      "text/plain": [
       "<Figure size 1000x600 with 1 Axes>"
      ]
     },
     "metadata": {},
     "output_type": "display_data"
    }
   ],
   "source": [
    "hourly_trend = hour_df.groupby('hr')[['casual', 'registered']].mean()\n",
    "\n",
    "hourly_trend.plot(kind='line', figsize=(10, 6), title='Rata-rata Penyewaan Sepeda per Jam', marker='o')\n",
    "plt.xlabel('Jam')\n",
    "plt.ylabel('Rata-rata Penyewaan')\n",
    "plt.xticks(range(0, 24, 2))\n",
    "plt.legend(['Kasual', 'Terdaftar'])\n",
    "plt.tight_layout()\n",
    "plt.show()\n"
   ]
  },
  {
   "cell_type": "markdown",
   "metadata": {
    "id": "_0-36BDLklRg"
   },
   "source": [
    "### **Insight:**\n",
    "1. Penyewaan Sepeda pada **Hari Libur** vs **Hari Kerja**\n",
    "    - Pada **hari kerja**, jumlah rata-rata penyewaan lebih tinggi untuk penyewa **terdaftar** dibandingkan dengan hari libur.\n",
    "    - Sebaliknya, pada **hari libur**, jumlah rata-rata penyewaan lebih tinggi untuk penyewa **kasual** dibandingkan dengan hari kerja.\n",
    "2. Penyewaan Sepeda Berdasarkan Musim\n",
    "    - Musim **Fall** menjadi musim yang paling diminati baik oleh penyewa **kasual** maupun penyewa **terdaftar**.\n",
    "    - Penyewaan sepeda cenderung menurun pada musim **Winter**, baik untuk penyewa **kasual** maupun **terdaftar**.\n",
    "3. Waktu Favorit Penyewaan Sepeda\n",
    "    - Penyewa **kasual** memiliki waktu favorit pada jam **14:00 (siang)**.\n",
    "    - Penyewa **terdaftar** memiliki waktu favorit pada jam **17:00 (sore)**.\n",
    "    - Kedua tipe penyewa menunjukkan pola aktivitas yang berbeda dalam satu hari, yang dapat disebabkan oleh perbedaan tujuan penyewaan sepeda (rekreasi vs keperluan kerja)."
   ]
  },
  {
   "cell_type": "markdown",
   "metadata": {
    "id": "9y4VUsmcYNZ5"
   },
   "source": [
    "## Analisis Lanjutan (Opsional)"
   ]
  },
  {
   "cell_type": "code",
   "execution_count": null,
   "metadata": {
    "id": "iWhnzsJGYUCO"
   },
   "outputs": [],
   "source": []
  },
  {
   "cell_type": "markdown",
   "metadata": {
    "id": "_WeHlCeX8DC2"
   },
   "source": [
    "## Conclusion"
   ]
  },
  {
   "cell_type": "markdown",
   "metadata": {
    "id": "ZTcyR48Y8DC2"
   },
   "source": [
    "- Conclution pertanyaan 1 : Penyewaan Sepeda Berdasarkan **Hari Libur** vs **Hari Kerja**\n",
    "\n",
    "    - Rata-rata penyewaan sepeda oleh penyewa **terdaftar** (registered) lebih tinggi pada **hari kerja**, dengan rata-rata sebesar **3.000** penyewaan per hari dibandingkan dengan **1.500** penyewaan per hari pada **hari libur**.\n",
    "    - Sebaliknya, penyewa **kasual** (casual) lebih banyak menyewa pada **hari libur**, dengan rata-rata sebesar **2.000** penyewaan per hari dibandingkan dengan **500** penyewaan per hari pada **hari kerja**.\n",
    "    \n",
    "- Conclution pertanyaan 2 : Penyewaan Sepeda Berdasarkan **Musim**\n",
    "\n",
    "    - Musim **Fall** (musim gugur) mencatat jumlah penyewaan **tertinggi** dengan rata-rata **4.500** penyewaan per hari. Hal ini disebabkan oleh cuaca yang mendukung aktivitas luar ruangan.\n",
    "    - Musim **Winter** (musim dingin) memiliki jumlah penyewaan **terendah** dengan rata-rata **1.000** penyewaan per hari, kemungkinan karena cuaca yang dingin dan tidak nyaman untuk bersepeda.\n",
    "\n",
    "- Conclution pertanyaan 2 : Waktu Favorit Penyewaan\n",
    "\n",
    "    - Penyewa **kasual** cenderung menyewa sepeda paling banyak pada pukul **14:00** dengan rata-rata penyewaan sebesar **250** sepeda per jam.\n",
    "    - Penyewa **terdaftar** cenderung menyewa sepeda pada pukul **17:00** dengan rata-rata penyewaan sebesar **400** sepeda per jam, kemungkinan besar karena pulang kerja."
   ]
  },
  {
   "cell_type": "markdown",
   "metadata": {},
   "source": [
    "## Rekomendasi untuk Sistem Penyewaan Sepeda"
   ]
  },
  {
   "cell_type": "markdown",
   "metadata": {},
   "source": [
    "- Efisiensi Operasional:\n",
    "    - Tambahkan lebih banyak sepeda pada hari libur untuk memenuhi permintaan dari penyewa kasual.\n",
    "    - Tingkatkan stok sepeda selama musim Fall untuk memenuhi permintaan yang tinggi.\n",
    "- Peningkatan Kepuasan Pelanggan:\n",
    "    - Sediakan diskon atau promosi pada hari kerja untuk menarik penyewa kasual.\n",
    "    - Berikan insentif bagi penyewa terdaftar untuk menggunakan sepeda di luar jam sibuk. misalnya, pada saat pagi hari.\n",
    "- Potensi Peningkatan Pendapatan:\n",
    "    - Perluas layanan penyewaan di sekitar lokasi kerja atau area perkantoran untuk mendukung kebutuhan penyewa terdaftar pada jam sibuk.\n",
    "    - Tambahkan fitur reservasi sepeda untuk mempermudah pelanggan saat jam sibuk."
   ]
  },
  {
   "cell_type": "markdown",
   "metadata": {},
   "source": []
  }
 ],
 "metadata": {
  "colab": {
   "provenance": []
  },
  "kernelspec": {
   "display_name": ".venv",
   "language": "python",
   "name": "python3"
  },
  "language_info": {
   "codemirror_mode": {
    "name": "ipython",
    "version": 3
   },
   "file_extension": ".py",
   "mimetype": "text/x-python",
   "name": "python",
   "nbconvert_exporter": "python",
   "pygments_lexer": "ipython3",
   "version": "3.13.1"
  },
  "orig_nbformat": 4
 },
 "nbformat": 4,
 "nbformat_minor": 0
}
